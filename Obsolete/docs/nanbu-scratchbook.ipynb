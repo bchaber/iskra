{
  "cells": [
    {
      "cell_type": "code",
      "source": [
        "using Revise\n",
        "using Chemistry\n",
        "using PyPlot\n",
        "\n",
        "cd(\"/Users/bach/OneDrive - Politechnika Warszawska/projects/2019/iskra\")\n",
        "include(\"problem/configuration.jl\")\n",
        "include(\"problem/units_and_constants.jl\")\n",
        "include(\"Chemistry/src/biagi71.jl\")\n",
        "include(\"Chemistry/src/phelps.jl\")\n",
        "nothing"
      ],
      "outputs": [
        {
          "output_type": "stream",
          "name": "stderr",
          "text": [
            "┌ Info: Precompiling Chemistry [top-level]\n",
            "└ @ Base loading.jl:1186\n",
            "┌ Warning: PyPlot is using tkagg backend, which is known to cause crashes on MacOS (#410); use the MPLBACKEND environment variable to request a different backend.\n",
            "└ @ PyPlot /Users/bach/.julia/packages/PyPlot/XHEG0/src/init.jl:192\n"
          ]
        }
      ],
      "execution_count": 13,
      "metadata": {
        "collapsed": true,
        "jupyter": {
          "source_hidden": false,
          "outputs_hidden": false
        },
        "nteract": {
          "transient": {
            "deleting": false
          }
        },
        "execution": {
          "shell.execute_reply": "2020-07-30T21:00:03.275Z",
          "iopub.status.busy": "2020-08-03T08:58:11.039Z",
          "iopub.execute_input": "2020-08-03T08:58:11.046Z",
          "iopub.status.idle": "2020-08-03T08:58:35.305Z"
        }
      }
    },
    {
      "cell_type": "code",
      "source": [
        "config = Config()\n",
        "\n",
        "using ParticleInCell\n",
        "\n",
        "He  = FluidSpecies(\"He\", 1.0, 0qe, 6.64647645970479e-27, zeros(1,1), 300.0K)\n",
        "e   = KineticSpecies{2,3}(\"e-\",  20_000)\n",
        "iHe = KineticSpecies{2,3}(\"He+\", 20_000)\n",
        "e.q, e.m = -1qe, 1me\n",
        "iHe.q, iHe.m = +1qe, 6.64647645970479e-27\n",
        "\n",
        "electron = mcc(@reactions begin\n",
        "    σ₁, e + He --> e + He\n",
        "    σ₂, e + He --> e + He, Chemistry.MCC.Excitation(19.82eV)\n",
        "    σ₃, e + He --> e + He, Chemistry.MCC.Excitation(20.61eV)\n",
        "    σ₄, e + He --> e + e + iHe, Chemistry.MCC.Ionization(24.587eV)\n",
        "end)\n",
        "\n",
        "ion = mcc(@reactions begin\n",
        "    σₑ₂, iHe + He --> iHe + He, Chemistry.MCC.ElasticBackward()\n",
        "    σₑ₁, iHe + He --> iHe + He, Chemistry.MCC.ElasticIsotropic()\n",
        "end)\n",
        " \n",
        "\n",
        "typeof.(electron.collisions)"
      ],
      "outputs": [
        {
          "output_type": "stream",
          "name": "stdout",
          "text": [
            "σ: , e- + He-->e- + He\telastic (isotropic): (0.0, 965.0509)\n",
            "σ: , e- + He-->e- + He\texcitation: (19.82, 984.8709)\n",
            "σ: , e- + He-->e- + He\texcitation: (20.61, 985.6609)\n",
            "σ: , e- + He-->KineticSpecies[e-, He+]\tionization: (24.59, 989.6379)\n",
            "e- MCC Energy range: (0.0, 989.6379)\n",
            "e- MCC Velocity range: (0.0, 1.865794604401031e7)\n",
            "e- MCC maximal velocity: 1.6900775370753927e6\n",
            "σ: , He+ + He-->He+ + He\telastic (backward): (0.0001, 10000.0)\n",
            "σ: , He+ + He-->He+ + He\telastic (isotropic): (0.0, 10000.0)\n",
            "He+ MCC Energy range: (0.0, 10000.0)\n",
            "He+ MCC Velocity range: (0.0, 694343.5981451317)\n",
            "He+ MCC maximal velocity: 694343.5981451317\n"
          ]
        },
        {
          "output_type": "execute_result",
          "execution_count": 14,
          "data": {
            "text/plain": "4-element Array{DataType,1}:\n Chemistry.MCC.Collision{Chemistry.MCC.ElasticIsotropic}\n Chemistry.MCC.Collision{Chemistry.MCC.Excitation}      \n Chemistry.MCC.Collision{Chemistry.MCC.Excitation}      \n Chemistry.MCC.Collision{Chemistry.MCC.Ionization}      "
          },
          "metadata": {}
        }
      ],
      "execution_count": 14,
      "metadata": {
        "collapsed": true,
        "jupyter": {
          "source_hidden": false,
          "outputs_hidden": false
        },
        "nteract": {
          "transient": {
            "deleting": false
          }
        },
        "execution": {
          "iopub.status.busy": "2020-08-03T08:59:00.256Z",
          "iopub.execute_input": "2020-08-03T08:59:01.643Z",
          "iopub.status.idle": "2020-08-03T08:59:07.169Z"
        }
      }
    },
    {
      "cell_type": "code",
      "source": [
        "sol = 299_792_458u\"m/s\" \n",
        "mass = 510_998.9500015u\"eV\"/sol^2\n",
        "energy = 0.1u\"eV\"\n",
        "velocity = sqrt(2energy/mass)"
      ],
      "outputs": [
        {
          "output_type": "execute_result",
          "execution_count": 15,
          "data": {
            "text/plain": "187553.72620952097 m s^-1"
          },
          "metadata": {}
        }
      ],
      "execution_count": 15,
      "metadata": {
        "collapsed": true,
        "jupyter": {
          "source_hidden": false,
          "outputs_hidden": false
        },
        "nteract": {
          "transient": {
            "deleting": false
          }
        },
        "execution": {
          "iopub.status.busy": "2020-08-03T08:59:07.177Z",
          "iopub.execute_input": "2020-08-03T08:59:07.182Z",
          "iopub.status.idle": "2020-08-03T08:59:08.723Z"
        }
      }
    },
    {
      "cell_type": "code",
      "source": [
        "vmin, vmax = 18_000, 22_000_000\n",
        "timestep = 1.8436578171091445e-10\n",
        "density = 9.64e20\n",
        "\n",
        "ν = vmin:1_000.0:vmax\n",
        "Δt = timestep\n",
        "n₀ = density\n",
        "N = 4\n",
        "U = rand()\n",
        "i = floor(Int64, N*U + 1)\n",
        "println(\"U: \", U)\n",
        "println(\"i: \", i)\n",
        "\n",
        "Pt = zero(ν)\n",
        "\n",
        "for collision in electron.collisions\n",
        "\tmᵢ = collision.source.m / 1.602176634e-19\n",
        "\tσᵢ = collision.rate\n",
        "\tεᵢ = 0.5 .* mᵢ .* ν .^ 2\n",
        "  \n",
        "    Pt .+= 1.0 .- exp.(-n₀ .* ν .* σᵢ.(εᵢ) .* Δt)\n",
        "end\n",
        "\n",
        "Ptmax = maximum(Pt)\n",
        "println(\"Ptmax: \", Ptmax)\n"
      ],
      "outputs": [
        {
          "output_type": "stream",
          "name": "stdout",
          "text": [
            "U: 0.15734835068561726\n",
            "i: 1\n",
            "Ptmax: 0.015829278005166758\n"
          ]
        }
      ],
      "execution_count": 18,
      "metadata": {
        "collapsed": true,
        "jupyter": {
          "source_hidden": false,
          "outputs_hidden": false
        },
        "nteract": {
          "transient": {
            "deleting": false
          }
        },
        "execution": {
          "iopub.status.busy": "2020-08-03T08:59:57.969Z",
          "iopub.execute_input": "2020-08-03T08:59:57.976Z",
          "iopub.status.idle": "2020-08-03T08:59:58.040Z"
        }
      }
    },
    {
      "cell_type": "code",
      "source": [
        "Pᵢ = zero(ν)\n",
        "for (j, collision) in enumerate(electron.collisions)\n",
        "\tmᵢ = collision.source.m / 1.602176634e-19\n",
        "\tσᵢ = collision.rate\n",
        "\tεᵢ = 0.5 .* mᵢ .* ν .^ 2\n",
        "\tPᵢ .+= 1.0 .- exp.(-n₀ .* ν .* σᵢ.(εᵢ) .* Δt)\n",
        "    loglog(ν, 1.0 .- exp.(-n₀ .* ν .* σᵢ.(εᵢ) .* Δt))\n",
        "end\n",
        "\n",
        "loglog(ν, U .+ zero(ν), \"r\")\n",
        "ylim(-0.1, +1.1)\n",
        "xlabel(\"velocity [m/s]\")\n",
        "ylabel(\"probability\")\n",
        "nothing"
      ],
      "outputs": [
        {
          "output_type": "display_data",
          "data": {
            "text/plain": "Figure(PyObject <Figure size 640x480 with 1 Axes>)",
            "image/png": "[encoded data removed]"
          },
          "metadata": {}
        }
      ],
      "execution_count": 21,
      "metadata": {
        "collapsed": true,
        "jupyter": {
          "source_hidden": false,
          "outputs_hidden": false
        },
        "nteract": {
          "transient": {
            "deleting": false
          }
        },
        "execution": {
          "iopub.status.busy": "2020-08-03T11:32:50.392Z",
          "iopub.execute_input": "2020-08-03T11:32:50.398Z",
          "iopub.status.idle": "2020-08-03T11:32:58.553Z"
        }
      }
    },
    {
      "cell_type": "code",
      "source": [
        "for (j, collision) in enumerate(electron.collisions)\n",
        "\tmᵢ = collision.source.m / 1.602176634e-19\n",
        "\tσᵢ = collision.rate\n",
        "\tεᵢ = 0.5 .* mᵢ .* ν .^ 2\n",
        "\tPᵢ = (1.0 .- exp.(-n₀ .* ν .* σᵢ.(εᵢ) .* Δt)) ./ (N*Ptmax)\n",
        "    #loglog(ν, n₀ .* ν .* σᵢ.(εᵢ) .* Δt)\n",
        "    fill_between(ν, j/N, j/N .- Pᵢ)\n",
        "    semilogx(ν, j/N .+ zero(ν), \"k\", linewidth=0.1)\n",
        "    if i == j\n",
        "      hit = U > i/N - maximum(Pᵢ)\n",
        "      println(\"U > (i/N) - Pᵢ: \", hit ? collision : \"null-collision\")\n",
        "    end\n",
        "end\n",
        "\n",
        "semilogx(ν, U .+ zero(ν), \"r\")\n",
        "ylim(-0.1, +1.1)\n",
        "xlabel(\"velocity [m/s]\")\n",
        "ylabel(\"probability\")\n",
        "nothing"
      ],
      "outputs": [
        {
          "output_type": "display_data",
          "data": {
            "text/plain": "Figure(PyObject <Figure size 640x480 with 1 Axes>)",
            "image/png": "[encoded data removed]"
          },
          "metadata": {}
        },
        {
          "output_type": "stream",
          "name": "stdout",
          "text": [
            "U > (i/N) - Pᵢ: σ: , e- + He-->e- + He\telastic (isotropic)\n"
          ]
        }
      ],
      "execution_count": 22,
      "metadata": {
        "collapsed": true,
        "jupyter": {
          "source_hidden": false,
          "outputs_hidden": false
        },
        "nteract": {
          "transient": {
            "deleting": false
          }
        },
        "execution": {
          "iopub.status.busy": "2020-08-03T11:33:13.305Z",
          "iopub.execute_input": "2020-08-03T11:33:13.311Z",
          "iopub.status.idle": "2020-08-03T11:33:14.090Z"
        }
      }
    },
    {
      "cell_type": "code",
      "source": [
        "sol = 299_792_458u\"m/s\" \n",
        "mass = 4.002602 * 931_494_028.23u\"eV\"/sol^2\n",
        "energy = 10_000u\"eV\"\n",
        "velocity = sqrt(2energy/mass)\n",
        "#uconvert(u\"kg\", mass), 4.1484043136437294e-8 * 1.602176634e-19"
      ],
      "outputs": [
        {
          "output_type": "error",
          "ename": "LoadError",
          "evalue": "UndefVarError: @u_str not defined",
          "traceback": [
            "UndefVarError: @u_str not defined",
            ""
          ]
        }
      ],
      "execution_count": 7,
      "metadata": {
        "collapsed": true,
        "jupyter": {
          "source_hidden": false,
          "outputs_hidden": false
        },
        "nteract": {
          "transient": {
            "deleting": false
          }
        },
        "execution": {
          "iopub.status.busy": "2020-08-03T08:56:14.406Z",
          "iopub.execute_input": "2020-08-03T08:56:14.421Z",
          "iopub.status.idle": "2020-08-03T08:56:14.453Z"
        }
      }
    },
    {
      "cell_type": "code",
      "source": [
        "vmin, vmax = 100, 700_000\n",
        "timestep = 1.8436578171091445e-10\n",
        "density = 9.64e20\n",
        "\n",
        "ν = vmin:10_000.0:vmax\n",
        "Δt = timestep\n",
        "n₀ = density\n",
        "N = 2\n",
        "U = rand()\n",
        "i = floor(Int64, N*U + 1)\n",
        "println(\"U: \", U)\n",
        "println(\"i: \", i)\n",
        "\n",
        "Pt = zero(ν)\n",
        "\n",
        "for collision in electron.collisions\n",
        "\tmᵢ = collision.source.m / 1.602176634e-19\n",
        "\tσᵢ = collision.rate\n",
        "\tεᵢ = 0.5 .* mᵢ .* ν .^ 2\n",
        "  \n",
        "    Pt .+= n₀ .* ν .* σᵢ.(εᵢ) .* Δt\n",
        "end\n",
        "\n",
        "Ptmax = maximum(Pt)\n",
        "println(\"Ptmax: \", Ptmax)\n"
      ],
      "outputs": [
        {
          "output_type": "stream",
          "name": "stdout",
          "text": [
            "U: 0.17553564459296145\n",
            "i: 1\n"
          ]
        },
        {
          "output_type": "error",
          "ename": "UndefVarError",
          "evalue": "UndefVarError: electron not defined",
          "traceback": [
            "UndefVarError: electron not defined",
            "",
            "Stacktrace:",
            " [1] top-level scope at ./In[8]:15"
          ]
        }
      ],
      "execution_count": 8,
      "metadata": {
        "collapsed": true,
        "jupyter": {
          "source_hidden": false,
          "outputs_hidden": false
        },
        "nteract": {
          "transient": {
            "deleting": false
          }
        },
        "execution": {
          "iopub.status.busy": "2020-08-03T08:56:14.470Z",
          "iopub.execute_input": "2020-08-03T08:56:14.482Z",
          "iopub.status.idle": "2020-08-03T08:56:14.615Z"
        }
      }
    },
    {
      "cell_type": "code",
      "source": [
        "for (j, collision) in enumerate(ion.collisions)\n",
        "\tmᵢ = collision.source.m / 1.602176634e-19\n",
        "\tσᵢ = collision.rate\n",
        "\tεᵢ = 0.5 .* mᵢ .* ν .^ 2\n",
        "\tPᵢ = n₀ .* ν .* σᵢ.(εᵢ) .* Δt ./ (N*Ptmax)\n",
        "    #loglog(ν, σᵢ.(εᵢ) .* Δt)\n",
        "    fill_between(ν, j/N, j/N .- Pᵢ)\n",
        "    semilogx(ν, j/N .+ zero(ν), \"k\", linewidth=0.1)\n",
        "    if i == j\n",
        "      hit = U > i/N - maximum(Pᵢ)\n",
        "      println(\"U > (i/N) - Pᵢ: \", hit ? collision : \"null-collision\")\n",
        "    end\n",
        "end\n",
        "legend(string.(ion.collisions))\n",
        "semilogx(ν, U .+ zero(ν), \"r\")\n",
        "ylim(-0.01, +1.01)\n",
        "xlabel(\"velocity [m/s]\")\n",
        "ylabel(\"probability\")\n",
        "nothing"
      ],
      "outputs": [
        {
          "output_type": "error",
          "ename": "UndefVarError",
          "evalue": "UndefVarError: ion not defined",
          "traceback": [
            "UndefVarError: ion not defined",
            "",
            "Stacktrace:",
            " [1] top-level scope at ./In[9]:1"
          ]
        }
      ],
      "execution_count": 9,
      "metadata": {
        "collapsed": true,
        "jupyter": {
          "source_hidden": false,
          "outputs_hidden": false
        },
        "nteract": {
          "transient": {
            "deleting": false
          }
        },
        "execution": {
          "iopub.status.busy": "2020-08-03T08:56:14.632Z",
          "iopub.execute_input": "2020-08-03T08:56:14.642Z",
          "iopub.status.idle": "2020-08-03T08:56:14.699Z"
        }
      }
    },
    {
      "cell_type": "code",
      "source": [
        "Pᵢ = zero(ν)\n",
        "for (j, collision) in enumerate(ion.collisions)\n",
        "\tmᵢ = collision.source.m / 1.602176634e-19\n",
        "\tσᵢ = collision.rate\n",
        "\tεᵢ = 0.5 .* mᵢ .* ν .^ 2\n",
        "\tPᵢ = Pᵢ .+ n₀ .* ν .* σᵢ.(εᵢ) .* Δt\n",
        "    loglog(ν, Pᵢ ./ Ptmax)\n",
        "end\n",
        "\n",
        "loglog(ν, U .+ zero(ν), \"r\")\n",
        "ylim(-0.1, +1.1)\n",
        "xlabel(\"velocity [m/s]\")\n",
        "ylabel(\"probability\")\n",
        "nothing"
      ],
      "outputs": [
        {
          "output_type": "error",
          "ename": "UndefVarError",
          "evalue": "UndefVarError: ion not defined",
          "traceback": [
            "UndefVarError: ion not defined",
            "",
            "Stacktrace:",
            " [1] top-level scope at ./In[10]:2"
          ]
        }
      ],
      "execution_count": 10,
      "metadata": {
        "collapsed": true,
        "jupyter": {
          "source_hidden": false,
          "outputs_hidden": false
        },
        "nteract": {
          "transient": {
            "deleting": false
          }
        },
        "execution": {
          "iopub.status.busy": "2020-08-03T08:56:14.708Z",
          "iopub.execute_input": "2020-08-03T08:56:14.715Z",
          "iopub.status.idle": "2020-08-03T08:56:14.745Z"
        }
      }
    },
    {
      "cell_type": "code",
      "source": [],
      "outputs": [],
      "execution_count": null,
      "metadata": {
        "collapsed": true,
        "jupyter": {
          "source_hidden": false,
          "outputs_hidden": false
        },
        "nteract": {
          "transient": {
            "deleting": false
          }
        }
      }
    }
  ],
  "metadata": {
    "kernel_info": {
      "name": "python3"
    },
    "language_info": {
      "file_extension": ".jl",
      "name": "julia",
      "mimetype": "application/julia",
      "version": "1.1.0"
    },
    "kernelspec": {
      "argv": [
        "python",
        "-m",
        "ipykernel_launcher",
        "-f",
        "{connection_file}"
      ],
      "display_name": "Python 3",
      "language": "python",
      "name": "python3"
    },
    "nteract": {
      "version": "0.24.0"
    }
  },
  "nbformat": 4,
  "nbformat_minor": 0
}