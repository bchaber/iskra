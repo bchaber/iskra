{
 "cells": [
  {
   "cell_type": "code",
   "execution_count": null,
   "id": "58831418",
   "metadata": {},
   "outputs": [],
   "source": [
    "VERSION"
   ]
  },
  {
   "cell_type": "code",
   "execution_count": 2,
   "id": "turned-weekend",
   "metadata": {},
   "outputs": [
    {
     "name": "stdout",
     "output_type": "stream",
     "text": [
      "[*] Checking runtime dependencies\n"
     ]
    },
    {
     "name": "stderr",
     "output_type": "stream",
     "text": [
      "\u001b[32m\u001b[1m  Activating\u001b[22m\u001b[39m project at `~/twostream`\n",
      "\u001b[32m\u001b[1m    Updating\u001b[22m\u001b[39m registry at `~/.julia/registries/General`\n",
      "\u001b[32m\u001b[1m   Resolving\u001b[22m\u001b[39m package versions...\n",
      "┌ Warning: The active manifest file at `/Users/bach/twostream/Manifest.toml` has an old format that is being maintained.\n",
      "│ To update to the new format run `Pkg.upgrade_manifest()` which will upgrade the format without re-resolving.\n",
      "└ @ Pkg.Types /Users/administrator/src/julia/usr/share/julia/stdlib/v1.7/Pkg/src/manifest.jl:287\n",
      "\u001b[32m\u001b[1m  No Changes\u001b[22m\u001b[39m to `~/twostream/Project.toml`\n",
      "\u001b[32m\u001b[1m  No Changes\u001b[22m\u001b[39m to `~/twostream/Manifest.toml`\n",
      "┌ Warning: The active manifest file is an older format with no julia version entry. Dependencies may have been resolved with a different julia version.\n",
      "└ @ nothing /Users/bach/twostream/Manifest.toml:0\n",
      "\u001b[32m\u001b[1m   Resolving\u001b[22m\u001b[39m package versions...\n",
      "\u001b[32m\u001b[1m  No Changes\u001b[22m\u001b[39m to `~/twostream/Project.toml`\n",
      "\u001b[32m\u001b[1m  No Changes\u001b[22m\u001b[39m to `~/twostream/Manifest.toml`\n",
      "\u001b[32m\u001b[1m   Resolving\u001b[22m\u001b[39m package versions...\n",
      "\u001b[32m\u001b[1m  No Changes\u001b[22m\u001b[39m to `~/twostream/Project.toml`\n",
      "\u001b[32m\u001b[1m  No Changes\u001b[22m\u001b[39m to `~/twostream/Manifest.toml`\n",
      "\u001b[32m\u001b[1m   Resolving\u001b[22m\u001b[39m package versions...\n",
      "\u001b[32m\u001b[1m  No Changes\u001b[22m\u001b[39m to `~/twostream/Project.toml`\n",
      "\u001b[32m\u001b[1m  No Changes\u001b[22m\u001b[39m to `~/twostream/Manifest.toml`\n",
      "\u001b[32m\u001b[1m   Resolving\u001b[22m\u001b[39m package versions...\n",
      "\u001b[32m\u001b[1m  No Changes\u001b[22m\u001b[39m to `~/twostream/Project.toml`\n",
      "\u001b[32m\u001b[1m  No Changes\u001b[22m\u001b[39m to `~/twostream/Manifest.toml`\n",
      "\u001b[32m\u001b[1m   Resolving\u001b[22m\u001b[39m package versions...\n",
      "\u001b[32m\u001b[1m  No Changes\u001b[22m\u001b[39m to `~/twostream/Project.toml`\n",
      "\u001b[32m\u001b[1m  No Changes\u001b[22m\u001b[39m to `~/twostream/Manifest.toml`\n",
      "\u001b[32m\u001b[1m   Resolving\u001b[22m\u001b[39m package versions...\n",
      "\u001b[32m\u001b[1m  No Changes\u001b[22m\u001b[39m to `~/twostream/Project.toml`\n",
      "\u001b[32m\u001b[1m  No Changes\u001b[22m\u001b[39m to `~/twostream/Manifest.toml`\n",
      "\u001b[32m\u001b[1m   Resolving\u001b[22m\u001b[39m package versions...\n",
      "\u001b[32m\u001b[1m  No Changes\u001b[22m\u001b[39m to `~/twostream/Project.toml`\n",
      "\u001b[32m\u001b[1m  No Changes\u001b[22m\u001b[39m to `~/twostream/Manifest.toml`\n",
      "\u001b[32m\u001b[1m  No Changes\u001b[22m\u001b[39m to `~/twostream/Project.toml`\n",
      "\u001b[32m\u001b[1m  No Changes\u001b[22m\u001b[39m to `~/twostream/Manifest.toml`\n"
     ]
    }
   ],
   "source": [
    "println(\"[*] Checking runtime dependencies\")\n",
    "import Pkg\n",
    "Pkg.activate(\".\")\n",
    "Pkg.add(\"Unitful\")\n",
    "Pkg.add(\"DataStructures\")\n",
    "Pkg.add(\"Distributions\")\n",
    "Pkg.add(\"IterativeSolvers\")\n",
    "Pkg.add(\"Interpolations\")\n",
    "Pkg.add(\"ProgressMeter\")\n",
    "Pkg.add(\"SparseArrays\")\n",
    "Pkg.add(\"StaticArrays\")\n",
    "Pkg.resolve()"
   ]
  },
  {
   "cell_type": "code",
   "execution_count": 3,
   "id": "swiss-wellington",
   "metadata": {},
   "outputs": [],
   "source": [
    "struct Config\n",
    "  diagnostics\n",
    "  solver\n",
    "  pusher\n",
    "  interactions\n",
    "  species\n",
    "  grid\n",
    "end"
   ]
  },
  {
   "cell_type": "code",
   "execution_count": 4,
   "id": "abroad-australia",
   "metadata": {},
   "outputs": [],
   "source": [
    "# + units and constants\n",
    "using Unitful\n",
    "↦(value::Unitful.Units, unit::Unitful.Units) = Unitful.convfact(unit, value)\n",
    "↦(value::Unitful.Quantity, unit::Unitful.Units) = uconvert(unit, value).val\n",
    "\n",
    "# units\n",
    "const °C = u\"°C\"\n",
    "const K  = u\"K\"  ↦ u\"K\"\n",
    "const kB = u\"k\"  ↦ u\"J/K\"\n",
    "const C  = u\"C\"  ↦ u\"C\"\n",
    "const V  = u\"V\"  ↦ u\"V\"\n",
    "const m  = u\"m\"  ↦ u\"m\"\n",
    "const cm = u\"cm\" ↦ u\"m\"\n",
    "const u  = u\"u\"  ↦ u\"kg\"\n",
    "const s  = u\"s\"  ↦ u\"s\"\n",
    "const ms = u\"ms\" ↦ u\"s\"\n",
    "const ns = u\"ns\" ↦ u\"s\"\n",
    "const ps = u\"ps\" ↦ u\"s\"\n",
    "const μs = u\"μs\" ↦ u\"s\"\n",
    "const kV = u\"MV\" ↦ u\"V\"\n",
    "const MV = u\"MV\" ↦ u\"V\"\n",
    "const eV = u\"eV\" ↦ u\"eV\"\n",
    "const kg = u\"kg\" ↦ u\"kg\"\n",
    "const mps = u\"m/s\" ↦ u\"m/s\"\n",
    "const kmps = u\"km/s\" ↦ u\"m/s\"\n",
    "const kHz = u\"kHz\" ↦ u\"Hz\"\n",
    "const MHz = u\"MHz\" ↦ u\"Hz\"\n",
    "\n",
    "# constants\n",
    "const ɛ0 = u\"ɛ0\" ↦ u\"F/m\"\n",
    "const c0 = sqrt(u\"1/ɛ0\" * u\"1/μ0\") ↦ u\"m/s\"\n",
    "const qe = 1.602_176_6208e-19C  # elementary charge\n",
    "const me = 9.109_383_7015e-31kg # mass of electron\n",
    "const mp = 1.672_621_8982e-27kg # mass of proton\n",
    "nothing"
   ]
  },
  {
   "cell_type": "code",
   "execution_count": 5,
   "id": "continental-newsletter",
   "metadata": {},
   "outputs": [
    {
     "data": {
      "text/plain": [
       "thermal_speed (generic function with 1 method)"
      ]
     },
     "execution_count": 5,
     "metadata": {},
     "output_type": "execute_result"
    }
   ],
   "source": [
    "function thermal_speed(T, m)\n",
    "  sqrt(2kB*T/m)\n",
    "end"
   ]
  },
  {
   "cell_type": "code",
   "execution_count": 6,
   "id": "rapid-techno",
   "metadata": {},
   "outputs": [
    {
     "name": "stdout",
     "output_type": "stream",
     "text": [
      "Δt: 5.30149462137438e-16\n",
      "Δh: 1.8743613985989163e-8\n",
      "Lx: 4.798365180413226e-6\n",
      "νtherm: 0.0003c\n",
      "νdrift: 0.0334c\n",
      "electrons: 1024 wg: 4.685903496497291e15\n"
     ]
    }
   ],
   "source": [
    "# + spatial and temporal paramters\n",
    "const νtherm = thermal_speed(300K, me)\n",
    "const νdrift = 1e7 #m/s\n",
    "const mHe = 4.002602me/5.48579903e-04\n",
    "const nHe = 1e24 # 1/m^3 number density\n",
    "const ne = 1nHe\n",
    "const f  = 9kHz # plasma frequency\n",
    "const ω  = 2π * f * sqrt(2e-6ne)\n",
    "const ds = 5e-3c0/ω\n",
    "const ts = 1000\n",
    "const nx = 256\n",
    "const Δh = ds\n",
    "\n",
    "const simulationVolume = nx * Δh\n",
    "const numCells         = nx\n",
    "\n",
    "const electronParticles    = 4 * numCells\n",
    "const totalNumElectrons    = ne * simulationVolume\n",
    "const electronNumRatio     = totalNumElectrons / electronParticles\n",
    "\n",
    "Δt = .4Δh/νdrift/sqrt(2.0)\n",
    "Lx = nx*Δh\n",
    "\n",
    "println(\"Δt: \", Δt, \"\\nΔh: \", Δh, \"\\nLx: \", Lx)\n",
    "println(\"νtherm: \", round(νtherm/c0; sigdigits=1), \"c\")\n",
    "println(\"νdrift: \", round(νdrift/c0; sigdigits=3), \"c\")\n",
    "println(\"electrons: \", electronParticles, \" wg: \", electronNumRatio)"
   ]
  },
  {
   "cell_type": "code",
   "execution_count": 7,
   "id": "extended-python",
   "metadata": {},
   "outputs": [],
   "source": [
    "using StaticArrays\n",
    "include(\"ParticleInCell/src/pic/kinetic.jl\");"
   ]
  },
  {
   "cell_type": "code",
   "execution_count": 8,
   "id": "driven-vermont",
   "metadata": {
    "scrolled": true
   },
   "outputs": [
    {
     "data": {
      "text/plain": [
       "2-element Vector{KineticSpecies{1, 3}}:\n",
       " e-\n",
       " He+"
      ]
     },
     "execution_count": 8,
     "metadata": {},
     "output_type": "execute_result"
    }
   ],
   "source": [
    "# + species and sources\n",
    "const e   = KineticSpecies{1,3}(\"e-\",  20_000, -1qe, 1me,  electronNumRatio)\n",
    "const iHe = KineticSpecies{1,3}(\"He+\", 20_000, +1qe, 1mHe, electronNumRatio)\n",
    "\n",
    "include(\"ParticleInCell/src/pic/sources.jl\")\n",
    "const fwd = MaxwellianSource{1,3}(electronParticles/2/Δt, [Lx,], [νtherm,νtherm,νtherm], dv=[+νdrift,0.,0.])\n",
    "const rev = MaxwellianSource{1,3}(electronParticles/2/Δt, [Lx,], [νtherm,νtherm,νtherm], dv=[-νdrift,0.,0.])\n",
    "\n",
    "const species = [e, iHe]"
   ]
  },
  {
   "cell_type": "code",
   "execution_count": 9,
   "id": "cf8efb2c",
   "metadata": {},
   "outputs": [
    {
     "data": {
      "text/plain": [
       "calculate_electric_potential (generic function with 1 method)"
      ]
     },
     "execution_count": 9,
     "metadata": {},
     "output_type": "execute_result"
    }
   ],
   "source": [
    "using LinearAlgebra\n",
    "using Statistics\n",
    "using SparseArrays\n",
    "include(\"../pole/boundary_conditions.jl\")\n",
    "include(\"../pole/gradient.jl\")\n",
    "include(\"../pole/iterative_methods.jl\")\n",
    "include(\"../pole/inplace_periodic_solver.jl\")\n",
    "include(\"../pole/linear_solver.jl\")\n",
    "\n",
    "solution(ps::InPlacePeriodicSolver) = ps.u\n",
    "gradient(ps::InPlacePeriodicSolver) = let periodic = PeriodicBC()\n",
    "    GradientOperator(ps.nx, ps.δx, (periodic, periodic), (:left, :right))\n",
    "end\n",
    "\n",
    "solution(ps::LinearSolver) = reshape(ps.u, ps.n...)\n",
    "gradient(ps::LinearSolver) = GradientOperator(ps.n[1], ps.δ[:], ps.bcs, ps.bnds)\n",
    "\n",
    "function create_poisson_solver(grid, ε0)\n",
    "    xf, = grid.coords\n",
    "    ps = InPlacePeriodicSolver(xf; maxiter=5000)\n",
    "end\n",
    "\n",
    "function calculate_electric_potential(ps, f)\n",
    "    solve!(ps, f ./ ε0)\n",
    "    φ  = solution(ps)\n",
    "    φ.-= mean(φ)\n",
    "end"
   ]
  },
  {
   "cell_type": "code",
   "execution_count": 10,
   "id": "collectible-satin",
   "metadata": {},
   "outputs": [],
   "source": [
    "using LinearAlgebra, StaticArrays\n",
    "const xs = 0m:Δh:Lx\n",
    "include(\"RegularGrids/src/uniform_grid.jl\")\n",
    "include(\"ParticleInCell/src/pic/pushers.jl\")\n",
    "const grid    = create_uniform_grid(xs)\n",
    "const solver  = create_poisson_solver(grid, ε0)\n",
    "const pusher  = create_boris_pusher(species)\n",
    "nothing"
   ]
  },
  {
   "cell_type": "code",
   "execution_count": 11,
   "id": "cultural-uruguay",
   "metadata": {},
   "outputs": [
    {
     "data": {
      "text/plain": [
       "iteration (generic function with 1 method)"
      ]
     },
     "execution_count": 11,
     "metadata": {},
     "output_type": "execute_result"
    }
   ],
   "source": [
    "include(\"ParticleInCell/src/pic/wrap.jl\")\n",
    "function after_push(part, grid)\n",
    "  wrap!(part, grid)\n",
    "end\n",
    "\n",
    "function enter_loop() # uses global: e, iHe, fwd, rev\n",
    "  e.np = 0\n",
    "  sample!(fwd, e, Δt)\n",
    "  sample!(rev, e, Δt)\n",
    "  # place ions in the same positions as electrons\n",
    "  iHe.x .= e.x\n",
    "  iHe.v .= zero(e.v)\n",
    "  iHe.np = e.np\n",
    "end\n",
    "\n",
    "function iteration(i, t, dt) # uses global: e\n",
    "  ((:iteration, i), (:e, e.np))\n",
    "end"
   ]
  },
  {
   "cell_type": "code",
   "execution_count": 12,
   "id": "appropriate-serve",
   "metadata": {},
   "outputs": [
    {
     "name": "stderr",
     "output_type": "stream",
     "text": [
      "\r",
      "\u001b[32mProgress: 100%|█████████████████████████████████████████| Time: 0:00:02\u001b[39m\r\n",
      "\u001b[34m  iteration:  1000\u001b[39m\r\n",
      "\u001b[34m  e:          1024\u001b[39m\n"
     ]
    },
    {
     "name": "stdout",
     "output_type": "stream",
     "text": [
      "Complete!\n",
      "  0.420146 seconds (8.32 M allocations: 326.363 MiB, 5.45% gc time, 5.66% compilation time)\n"
     ]
    }
   ],
   "source": [
    "using Random; Random.seed!(0)\n",
    "\n",
    "using ProgressMeter; ProgressMeter.ijulia_behavior(:clear)\n",
    "const progress = Progress(ts)\n",
    "\n",
    "function after_loop(i, t, dt) # uses global: progress\n",
    "  update!(progress, i; showvalues = iteration(i, t, dt))\n",
    "end\n",
    "\n",
    "function exit_loop() end\n",
    "\n",
    "const diagnostics = Dict{String, Array{Float64, 2}}(\n",
    "    \"ne-\"  => zeros(nx, ts),\n",
    "    \"nHe+\" => zeros(nx, ts),\n",
    "    \"rho\"  => zeros(nx, ts),\n",
    "    \"phi\"  => zeros(nx, ts),\n",
    "    \"Ex\"   => zeros(nx+1, ts))\n",
    "\n",
    "const config = Config(diagnostics, solver, pusher, [], species, grid)\n",
    "println(\"[*] Running simulation\")\n",
    "\n",
    "struct FluidSpecies end\n",
    "include(\"ParticleInCell/src/pic/algorithm.jl\")\n",
    "include(\"ParticleInCell/src/pic/cloud_in_cell.jl\")\n",
    "@time solve(config, Δt, 5)\n",
    "@time solve(config, Δt, ts)"
   ]
  },
  {
   "cell_type": "code",
   "execution_count": 13,
   "id": "higher-abuse",
   "metadata": {},
   "outputs": [
    {
     "name": "stderr",
     "output_type": "stream",
     "text": [
      "┌ Info: Precompiling PyPlot [d330b81b-6aea-500a-939a-2ce795aea3ee]\n",
      "└ @ Base loading.jl:1423\n",
      "ImportError: No module named site\n"
     ]
    },
    {
     "ename": "LoadError",
     "evalue": "Failed to precompile PyPlot [d330b81b-6aea-500a-939a-2ce795aea3ee] to /Users/bach/.julia/compiled/v1.7/PyPlot/jl_1aZoKJ.",
     "output_type": "error",
     "traceback": [
      "Failed to precompile PyPlot [d330b81b-6aea-500a-939a-2ce795aea3ee] to /Users/bach/.julia/compiled/v1.7/PyPlot/jl_1aZoKJ.",
      "",
      "Stacktrace:",
      " [1] error(s::String)",
      "   @ Base ./error.jl:33",
      " [2] compilecache(pkg::Base.PkgId, path::String, internal_stderr::IO, internal_stdout::IO, ignore_loaded_modules::Bool)",
      "   @ Base ./loading.jl:1466",
      " [3] compilecache(pkg::Base.PkgId, path::String)",
      "   @ Base ./loading.jl:1410",
      " [4] _require(pkg::Base.PkgId)",
      "   @ Base ./loading.jl:1120",
      " [5] require(uuidkey::Base.PkgId)",
      "   @ Base ./loading.jl:1013",
      " [6] require(into::Module, mod::Symbol)",
      "   @ Base ./loading.jl:997",
      " [7] eval",
      "   @ ./boot.jl:373 [inlined]",
      " [8] include_string(mapexpr::typeof(REPL.softscope), mod::Module, code::String, filename::String)",
      "   @ Base ./loading.jl:1196"
     ]
    }
   ],
   "source": [
    "import PyPlot\n",
    "PyPlot.figure(figsize=(15, 6))\n",
    "PyPlot.imshow(diagnostics[\"ne-\"]);"
   ]
  },
  {
   "cell_type": "code",
   "execution_count": 14,
   "id": "25d43c1e",
   "metadata": {},
   "outputs": [
    {
     "name": "stderr",
     "output_type": "stream",
     "text": [
      "┌ Info: Precompiling PyPlot [d330b81b-6aea-500a-939a-2ce795aea3ee]\n",
      "└ @ Base loading.jl:1423\n",
      "ImportError: No module named site\n"
     ]
    },
    {
     "ename": "LoadError",
     "evalue": "Failed to precompile PyPlot [d330b81b-6aea-500a-939a-2ce795aea3ee] to /Users/bach/.julia/compiled/v1.7/PyPlot/jl_GpH4zj.",
     "output_type": "error",
     "traceback": [
      "Failed to precompile PyPlot [d330b81b-6aea-500a-939a-2ce795aea3ee] to /Users/bach/.julia/compiled/v1.7/PyPlot/jl_GpH4zj.",
      "",
      "Stacktrace:",
      " [1] error(s::String)",
      "   @ Base ./error.jl:33",
      " [2] compilecache(pkg::Base.PkgId, path::String, internal_stderr::IO, internal_stdout::IO, ignore_loaded_modules::Bool)",
      "   @ Base ./loading.jl:1466",
      " [3] compilecache(pkg::Base.PkgId, path::String)",
      "   @ Base ./loading.jl:1410",
      " [4] _require(pkg::Base.PkgId)",
      "   @ Base ./loading.jl:1120",
      " [5] require(uuidkey::Base.PkgId)",
      "   @ Base ./loading.jl:1013",
      " [6] require(into::Module, mod::Symbol)",
      "   @ Base ./loading.jl:997",
      " [7] eval",
      "   @ ./boot.jl:373 [inlined]",
      " [8] include_string(mapexpr::typeof(REPL.softscope), mod::Module, code::String, filename::String)",
      "   @ Base ./loading.jl:1196"
     ]
    }
   ],
   "source": [
    "import PyPlot\n",
    "PyPlot.figure(figsize=(15, 6))\n",
    "PyPlot.imshow(diagnostics[\"Ex\"])\n",
    "PyPlot.colorbar(orientation=\"horizontal\");"
   ]
  }
 ],
 "metadata": {
  "kernelspec": {
   "display_name": "Julia 1.6.3",
   "language": "julia",
   "name": "julia-1.6"
  },
  "language_info": {
   "file_extension": ".jl",
   "mimetype": "application/julia",
   "name": "julia",
   "version": "1.7.0"
  }
 },
 "nbformat": 4,
 "nbformat_minor": 5
}
