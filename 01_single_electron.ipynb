{
 "cells": [
  {
   "cell_type": "code",
   "execution_count": 1,
   "metadata": {},
   "outputs": [
    {
     "data": {
      "text/plain": [
       "\"/home/bach/iskra\""
      ]
     },
     "execution_count": 1,
     "metadata": {},
     "output_type": "execute_result"
    }
   ],
   "source": [
    "import Random\n",
    "Random.seed!(0)\n",
    "pwd()"
   ]
  },
  {
   "cell_type": "code",
   "execution_count": 2,
   "metadata": {},
   "outputs": [
    {
     "name": "stderr",
     "output_type": "stream",
     "text": [
      "┌ Info: Precompiling ParticleInCell [top-level]\n",
      "└ @ Base loading.jl:1260\n"
     ]
    }
   ],
   "source": [
    "include(\"problem/units_and_constants.jl\")\n",
    "include(\"problem/configuration.jl\")\n",
    "config = Config();"
   ]
  },
  {
   "cell_type": "code",
   "execution_count": 3,
   "metadata": {},
   "outputs": [],
   "source": [
    "nx = 20         # number of nodes in x direction\n",
    "ny = 20         # number of nodes in y direction\n",
    "ts = 500        # number of time steps\n",
    "Δh = 5cm        # cell size\n",
    "Δt = 20ns       # time step\n",
    "Lx = nx*Δh      # domain length in x direction\n",
    "Ly = ny*Δh      # domain length in y direction\n",
    "nothing"
   ]
  },
  {
   "cell_type": "code",
   "execution_count": 4,
   "metadata": {},
   "outputs": [],
   "source": [
    "xs, ys = 0m:Δh:Lx, 0m:Δh:Ly\n",
    "sx, sv = [0 Lx; 0 Ly], [0 -.1Δh/Δt; 0 0]\n",
    "e = create_kinetic_species(\"e-\", 20_000,-1qe, 1me, 1);\n",
    "γ = create_gamma_ionization_source(1/Δt, sx, sv);"
   ]
  },
  {
   "cell_type": "code",
   "execution_count": 5,
   "metadata": {},
   "outputs": [],
   "source": [
    "import RegularGrid, FiniteDifferenceMethod, ParticleInCell\n",
    "config.grid    = RegularGrid.create_uniform_grid(xs, ys)\n",
    "config.cells   = RegularGrid.create_staggered_grid(config.grid)\n",
    "config.solver  = FiniteDifferenceMethod.create_poisson_solver(config.grid, ε0)\n",
    "config.pusher  = ParticleInCell.create_boris_pusher()\n",
    "config.species = [e];"
   ]
  },
  {
   "cell_type": "code",
   "execution_count": 6,
   "metadata": {},
   "outputs": [],
   "source": [
    "nx, ny = size(config.grid)\n",
    "mx, my = size(config.cells)\n",
    "εr  = ones(mx, my, 1)\n",
    "bcs = zeros(Int8, nx, ny, 1)\n",
    "bcs[ nx,  1, 1] = 1\n",
    "bcs[ nx, ny, 1] = 2\n",
    "set_permittivity(εr)\n",
    "create_electrode(bcs .== 1, config; σ=1ε0);\n",
    "create_electrode(bcs .== 2, config; fixed=true);"
   ]
  },
  {
   "cell_type": "code",
   "execution_count": 7,
   "metadata": {},
   "outputs": [],
   "source": [
    "import Diagnostics\n",
    "\n",
    "function ParticleInCell.after_loop(i, t, dt)\n",
    "  f, it = Diagnostics.new_iteration(\"01_single_particle\", i, t, dt)\n",
    "  Diagnostics.save_diagnostic(it, \"e-/positionOffset/x\")\n",
    "  Diagnostics.save_diagnostic(it, \"e-/positionOffset/y\")\n",
    "  Diagnostics.save_diagnostic(it, \"e-/positionOffset/z\")\n",
    "  Diagnostics.save_diagnostic(it, \"e-/position\")\n",
    "  Diagnostics.save_diagnostic(it, \"e-/momentum\")\n",
    "  Diagnostics.save_diagnostic(it, \"e-/weighting\")\n",
    "  Diagnostics.save_diagnostic(it, \"e-/charge\")\n",
    "  Diagnostics.save_diagnostic(it, \"e-/mass\")\n",
    "  Diagnostics.save_diagnostic(it, \"e-/id\")\n",
    "  Diagnostics.save_diagnostic(it, \"rho\")\n",
    "  Diagnostics.save_diagnostic(it, \"phi\")\n",
    "  Diagnostics.save_diagnostic(it, \"E\")\n",
    "  close(f)\n",
    "end\n",
    "\n",
    "nothing"
   ]
  },
  {
   "cell_type": "code",
   "execution_count": 8,
   "metadata": {},
   "outputs": [
    {
     "name": "stdout",
     "output_type": "stream",
     "text": [
      "New diagnostics registered: e-/id\n",
      "New diagnostics registered: e-/mass\n",
      "New diagnostics registered: e-/charge\n",
      "New diagnostics registered: e-/weighting\n",
      "New diagnostics registered: e-/momentum\n",
      "New diagnostics registered: e-/position\n",
      "New diagnostics registered: e-/positionOffset/x\n",
      "New diagnostics registered: e-/positionOffset/y\n",
      "New diagnostics registered: e-/positionOffset/z\n",
      "New diagnostics registered: e-/density\n",
      "New diagnostics registered: rho\n",
      "New diagnostics registered: phi\n",
      "New diagnostics registered: E\n"
     ]
    },
    {
     "ename": "ErrorException",
     "evalue": "type _GLOBAL_RNG has no field seed",
     "output_type": "error",
     "traceback": [
      "type _GLOBAL_RNG has no field seed",
      "",
      "Stacktrace:",
      " [1] getproperty(::Random._GLOBAL_RNG, ::Symbol) at ./Base.jl:33",
      " [2] new_iteration(::String, ::Int64, ::Float64, ::Float64, ::String) at /home/bach/iskra/Diagnostics.jl:70",
      " [3] new_iteration(::String, ::Int64, ::Float64, ::Float64) at /home/bach/iskra/Diagnostics.jl:66",
      " [4] after_loop(::Int64, ::Float64, ::Float64) at ./In[7]:4",
      " [5] solve(::Config, ::Rational{Int64}, ::Int64) at /home/bach/iskra/ParticleInCell/src/ParticleInCell.jl:130",
      " [6] macro expansion at ./util.jl:175 [inlined]",
      " [7] top-level scope at ./In[8]:2"
     ]
    }
   ],
   "source": [
    "ParticleInCell.init(γ, e, Δt)\n",
    "@time ParticleInCell.solve(config, Δt, ts)"
   ]
  },
  {
   "cell_type": "code",
   "execution_count": null,
   "metadata": {},
   "outputs": [],
   "source": []
  },
  {
   "cell_type": "code",
   "execution_count": null,
   "metadata": {},
   "outputs": [],
   "source": []
  }
 ],
 "metadata": {
  "kernelspec": {
   "display_name": "Julia 1.4.1",
   "language": "julia",
   "name": "julia-1.4"
  },
  "language_info": {
   "file_extension": ".jl",
   "mimetype": "application/julia",
   "name": "julia",
   "version": "1.4.1"
  }
 },
 "nbformat": 4,
 "nbformat_minor": 4
}
