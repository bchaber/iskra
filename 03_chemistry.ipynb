{
 "cells": [
  {
   "cell_type": "code",
   "execution_count": 1,
   "metadata": {},
   "outputs": [
    {
     "data": {
      "text/plain": [
       "\"/home/bach/iskra\""
      ]
     },
     "execution_count": 1,
     "metadata": {},
     "output_type": "execute_result"
    }
   ],
   "source": [
    "import Random\n",
    "Random.seed!(0)\n",
    "pwd()"
   ]
  },
  {
   "cell_type": "code",
   "execution_count": 2,
   "metadata": {},
   "outputs": [],
   "source": [
    "include(\"problem/units_and_constants.jl\")\n",
    "include(\"problem/configuration.jl\")\n",
    "config = Config();"
   ]
  },
  {
   "cell_type": "code",
   "execution_count": 3,
   "metadata": {},
   "outputs": [],
   "source": [
    "nx = 20         # number of nodes in x direction\n",
    "ny = 20         # number of nodes in y direction\n",
    "ts = 200        # number of time steps\n",
    "Δh = 5cm        # cell size\n",
    "Δt = 50ns       # time step\n",
    "Lx = nx*Δh      # domain length in x direction\n",
    "Ly = ny*Δh      # domain length in y direction\n",
    "nothing"
   ]
  },
  {
   "cell_type": "code",
   "execution_count": 4,
   "metadata": {},
   "outputs": [],
   "source": [
    "xs, ys = 0m:Δh:Lx, 0m:Δh:Ly\n",
    "sx, sv = [0 Lx; 0 Ly], [0 0; 0 0]\n",
    "O  = create_fluid_species(\"O\",  0.0, 0qe, 8mp, nx+1, ny+1);\n",
    "iO = create_fluid_species(\"O+\", 0.0,+1qe, 8mp, nx+1, ny+1);\n",
    "e  = create_fluid_species(\"e-\", 1.0,-1qe, 1me, nx+1, ny+1);"
   ]
  },
  {
   "cell_type": "code",
   "execution_count": 5,
   "metadata": {},
   "outputs": [
    {
     "name": "stderr",
     "output_type": "stream",
     "text": [
      "┌ Info: Precompiling Chemistry [top-level]\n",
      "└ @ Base loading.jl:1260\n"
     ]
    },
    {
     "data": {
      "text/plain": [
       "1-element Array{ChemicalReactionNetwork,1}:\n",
       " ChemicalReactionNetwork(ChemicalReaction[σ, Tuple{ParticleInCell.FluidSpecies,Int64}[(e-, 1), (O, 1)]:Tuple{ParticleInCell.FluidSpecies,Int64}[(e-, 1), (O, -1), (O+, 1)]])"
      ]
     },
     "execution_count": 5,
     "metadata": {},
     "output_type": "execute_result"
    }
   ],
   "source": [
    "import RegularGrid, FiniteDifferenceMethod, ParticleInCell\n",
    "config.grid    = RegularGrid.create_uniform_grid(xs, ys)\n",
    "config.cells   = RegularGrid.create_staggered_grid(config.grid)\n",
    "config.solver  = FiniteDifferenceMethod.create_poisson_solver(config.grid, ε0)\n",
    "config.pusher  = ParticleInCell.create_boris_pusher()\n",
    "config.species = [O, iO, e]\n",
    "\n",
    "using Chemistry\n",
    "#σ = CrossSection(0:0.3:1.5, [0, 0.1e-4, 0.4e-4, 0.5e-4, 0.7e-4, 0.9e-4])\n",
    "σ(E) = 2\n",
    "chemistry = chemical(@reactions begin\n",
    "    σ, e + O --> 2e + iO\n",
    "end)\n",
    "config.interactions = [chemistry]"
   ]
  },
  {
   "cell_type": "code",
   "execution_count": 6,
   "metadata": {},
   "outputs": [
    {
     "data": {
      "text/plain": [
       "ParticleInCell.FixedPotentialElectrode(fill(0.0), 0.0, 0.0)"
      ]
     },
     "execution_count": 6,
     "metadata": {},
     "output_type": "execute_result"
    }
   ],
   "source": [
    "nx, ny = size(config.grid)\n",
    "mx, my = size(config.cells)\n",
    "xx, yy = config.grid.x, config.grid.y\n",
    "δ = @. exp(-(xx-0.5Lx)^2/0.03Lx -(yy-0.5Ly)^2/0.03Ly)\n",
    "εr  = ones(mx, my, 1)\n",
    "bcs = zeros(Int8, nx, ny, 1)\n",
    "bcs[ nx,  1, 1] = 1\n",
    "bcs[ nx, ny, 1] = 2\n",
    "set_permittivity(εr)\n",
    "create_electrode(bcs .== 1, config; σ=1ε0)\n",
    "create_electrode(bcs .== 2, config; fixed=true)"
   ]
  },
  {
   "cell_type": "code",
   "execution_count": 7,
   "metadata": {},
   "outputs": [],
   "source": [
    "import Diagnostics\n",
    "\n",
    "function ParticleInCell.after_loop(i, t, dt)\n",
    "  Diagnostics.new_iteration(\"03_chemistry\", i, t, dt) do it\n",
    "    Diagnostics.save_diagnostic(it, \"nO\")\n",
    "    Diagnostics.save_diagnostic(it, \"nO+\")\n",
    "    Diagnostics.save_diagnostic(it, \"ne-\")\n",
    "    Diagnostics.save_diagnostic(it, \"dO\")\n",
    "    Diagnostics.save_diagnostic(it, \"dO+\")\n",
    "    Diagnostics.save_diagnostic(it, \"de-\")\n",
    "    Diagnostics.save_diagnostic(it, \"phi\")\n",
    "    Diagnostics.save_diagnostic(it, \"E\")\n",
    "  end\n",
    "end\n",
    "\n",
    "nothing"
   ]
  },
  {
   "cell_type": "code",
   "execution_count": 8,
   "metadata": {
    "scrolled": true
   },
   "outputs": [
    {
     "name": "stdout",
     "output_type": "stream",
     "text": [
      "New diagnostics registered: dO\n",
      "New diagnostics registered: dO+\n",
      "New diagnostics registered: de-\n",
      "New diagnostics registered: vO\n",
      "New diagnostics registered: vO+\n",
      "New diagnostics registered: ve-\n",
      "New diagnostics registered: nO\n",
      "New diagnostics registered: nO+\n",
      "New diagnostics registered: ne-\n",
      "New diagnostics registered: rho\n",
      "New diagnostics registered: phi\n",
      "New diagnostics registered: E\n",
      "Time Step #1\n",
      "Time Step #2\n",
      "Time Step #3\n",
      "Time Step #4\n",
      "Time Step #5\n",
      "Time Step #6\n",
      "Time Step #7\n",
      "Time Step #8\n",
      "Time Step #9\n",
      "Time Step #10\n",
      "Time Step #11\n",
      "Time Step #12\n",
      "Time Step #13\n",
      "Time Step #14\n",
      "Time Step #15\n",
      "Time Step #16\n",
      "Time Step #17\n",
      "Time Step #18\n",
      "Time Step #19\n",
      "Time Step #20\n",
      "Time Step #21\n",
      "Time Step #22\n",
      "Time Step #23\n",
      "Time Step #24\n",
      "Time Step #25\n",
      "Time Step #26\n",
      "Time Step #27\n",
      "Time Step #28\n",
      "Time Step #29\n",
      "Time Step #30\n",
      "Time Step #31\n",
      "Time Step #32\n",
      "Time Step #33\n",
      "Time Step #34\n",
      "Time Step #35\n",
      "Time Step #36\n",
      "Time Step #37\n",
      "Time Step #38\n",
      "Time Step #39\n",
      "Time Step #40\n",
      "Time Step #41\n",
      "Time Step #42\n",
      "Time Step #43\n",
      "Time Step #44\n",
      "Time Step #45\n",
      "Time Step #46\n",
      "Time Step #47\n",
      "Time Step #48\n",
      "Time Step #49\n",
      "Time Step #50\n",
      "Time Step #51\n",
      "Time Step #52\n",
      "Time Step #53\n",
      "Time Step #54\n",
      "Time Step #55\n",
      "Time Step #56\n",
      "Time Step #57\n",
      "Time Step #58\n",
      "Time Step #59\n",
      "Time Step #60\n",
      "Time Step #61\n",
      "Time Step #62\n",
      "Time Step #63\n",
      "Time Step #64\n",
      "Time Step #65\n",
      "Time Step #66\n",
      "Time Step #67\n",
      "Time Step #68\n",
      "Time Step #69\n",
      "Time Step #70\n",
      "Time Step #71\n",
      "Time Step #72\n",
      "Time Step #73\n",
      "Time Step #74\n",
      "Time Step #75\n",
      "Time Step #76\n",
      "Time Step #77\n",
      "Time Step #78\n",
      "Time Step #79\n",
      "Time Step #80\n",
      "Time Step #81\n",
      "Time Step #82\n",
      "Time Step #83\n",
      "Time Step #84\n",
      "Time Step #85\n",
      "Time Step #86\n",
      "Time Step #87\n",
      "Time Step #88\n",
      "Time Step #89\n",
      "Time Step #90\n",
      "Time Step #91\n",
      "Time Step #92\n",
      "Time Step #93\n",
      "Time Step #94\n",
      "Time Step #95\n",
      "Time Step #96\n",
      "Time Step #97\n",
      "Time Step #98\n",
      "Time Step #99\n",
      "Time Step #100\n",
      "Time Step #101\n",
      "Time Step #102\n",
      "Time Step #103\n",
      "Time Step #104\n",
      "Time Step #105\n",
      "Time Step #106\n",
      "Time Step #107\n",
      "Time Step #108\n",
      "Time Step #109\n",
      "Time Step #110\n",
      "Time Step #111\n",
      "Time Step #112\n",
      "Time Step #113\n",
      "Time Step #114\n",
      "Time Step #115\n",
      "Time Step #116\n",
      "Time Step #117\n",
      "Time Step #118\n",
      "Time Step #119\n",
      "Time Step #120\n",
      "Time Step #121\n",
      "Time Step #122\n",
      "Time Step #123\n",
      "Time Step #124\n",
      "Time Step #125\n",
      "Time Step #126\n",
      "Time Step #127\n",
      "Time Step #128\n",
      "Time Step #129\n",
      "Time Step #130\n",
      "Time Step #131\n",
      "Time Step #132\n",
      "Time Step #133\n",
      "Time Step #134\n",
      "Time Step #135\n",
      "Time Step #136\n",
      "Time Step #137\n",
      "Time Step #138\n",
      "Time Step #139\n",
      "Time Step #140\n",
      "Time Step #141\n",
      "Time Step #142\n",
      "Time Step #143\n",
      "Time Step #144\n",
      "Time Step #145\n",
      "Time Step #146\n",
      "Time Step #147\n",
      "Time Step #148\n",
      "Time Step #149\n",
      "Time Step #150\n",
      "Time Step #151\n",
      "Time Step #152\n",
      "Time Step #153\n",
      "Time Step #154\n",
      "Time Step #155\n",
      "Time Step #156\n",
      "Time Step #157\n",
      "Time Step #158\n",
      "Time Step #159\n",
      "Time Step #160\n",
      "Time Step #161\n",
      "Time Step #162\n",
      "Time Step #163\n",
      "Time Step #164\n",
      "Time Step #165\n",
      "Time Step #166\n",
      "Time Step #167\n",
      "Time Step #168\n",
      "Time Step #169\n",
      "Time Step #170\n",
      "Time Step #171\n",
      "Time Step #172\n",
      "Time Step #173\n",
      "Time Step #174\n",
      "Time Step #175\n",
      "Time Step #176\n",
      "Time Step #177\n",
      "Time Step #178\n",
      "Time Step #179\n",
      "Time Step #180\n",
      "Time Step #181\n",
      "Time Step #182\n",
      "Time Step #183\n",
      "Time Step #184\n",
      "Time Step #185\n",
      "Time Step #186\n",
      "Time Step #187\n",
      "Time Step #188\n",
      "Time Step #189\n",
      "Time Step #190\n",
      "Time Step #191\n",
      "Time Step #192\n",
      "Time Step #193\n",
      "Time Step #194\n",
      "Time Step #195\n",
      "Time Step #196\n",
      "Time Step #197\n",
      "Time Step #198\n",
      "Time Step #199\n",
      "Time Step #200\n",
      "Complete!\n",
      "  9.137234 seconds (22.55 M allocations: 1.466 GiB, 5.39% gc time)\n"
     ]
    }
   ],
   "source": [
    "ParticleInCell.init(ParticleInCell.DensitySource(1e6δ, config.grid), O, Δt)\n",
    "ParticleInCell.init(ParticleInCell.DensitySource(1e4δ, config.grid), e, Δt)\n",
    "@time ParticleInCell.solve(config, Δt, ts)"
   ]
  },
  {
   "cell_type": "markdown",
   "metadata": {},
   "source": [
    "### Analysis"
   ]
  },
  {
   "cell_type": "code",
   "execution_count": 9,
   "metadata": {},
   "outputs": [],
   "source": [
    "using PyPlot\n",
    "using PyCall\n",
    "ov  = pyimport(\"openpmd_viewer\");\n",
    "ts = ov.OpenPMDTimeSeries(\"/tmp/03_chemistry/hdf5\");"
   ]
  },
  {
   "cell_type": "code",
   "execution_count": 10,
   "metadata": {},
   "outputs": [],
   "source": [
    "ts.get_field(\"nO+\", iteration=10, plot=false);"
   ]
  },
  {
   "cell_type": "code",
   "execution_count": 11,
   "metadata": {},
   "outputs": [
    {
     "data": {
      "image/png": "[encoded data removed]",
      "text/plain": [
       "Figure(PyObject <Figure size 1760x960 with 12 Axes>)"
      ]
     },
     "metadata": {},
     "output_type": "display_data"
    }
   ],
   "source": [
    "fig = plt.figure(figsize=(22, 12), dpi= 80, facecolor=\"w\", edgecolor=\"k\")\n",
    "\n",
    "plt.subplot(2, 3, 1); ts.get_field(\"nO+\", iteration=1,  plot=true); clim(0, 500_000)\n",
    "plt.subplot(2, 3, 2); ts.get_field(\"nO+\", iteration=10, plot=true); clim(0, 500_000)\n",
    "plt.subplot(2, 3, 3); ts.get_field(\"nO+\", iteration=50, plot=true); clim(0, 500_000)\n",
    "\n",
    "plt.subplot(2, 3, 4); ts.get_field(\"nO\",  iteration=1,  plot=true); clim(0, 900_000)\n",
    "plt.subplot(2, 3, 5); ts.get_field(\"nO\",  iteration=10, plot=true); clim(0, 900_000)\n",
    "plt.subplot(2, 3, 6); ts.get_field(\"nO\",  iteration=50, plot=true); clim(0, 900_000)"
   ]
  },
  {
   "cell_type": "code",
   "execution_count": null,
   "metadata": {},
   "outputs": [],
   "source": []
  },
  {
   "cell_type": "code",
   "execution_count": null,
   "metadata": {},
   "outputs": [],
   "source": []
  }
 ],
 "metadata": {
  "kernelspec": {
   "display_name": "Julia 1.4.1",
   "language": "julia",
   "name": "julia-1.4"
  },
  "language_info": {
   "file_extension": ".jl",
   "mimetype": "application/julia",
   "name": "julia",
   "version": "1.4.1"
  }
 },
 "nbformat": 4,
 "nbformat_minor": 4
}
