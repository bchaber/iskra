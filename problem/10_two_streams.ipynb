{
 "cells": [
  {
   "cell_type": "markdown",
   "metadata": {
    "nteract": {
     "transient": {
      "deleting": false
     }
    }
   },
   "source": [
    "### Two Stream Instability\n",
    "Simulated in quasi-2D with only one cell in y-axis.\n",
    "\n",
    "Parameters are based on the simulation of two_stream_ee_es.inp distributed with XOOPIC.\n",
    "Two electron beams with opposite velocities interact with each other. As in XOOPIC simulation, the ions (He+) are also a kinetic species placed in the same positions as initial electrons."
   ]
  },
  {
   "cell_type": "code",
   "execution_count": null,
   "metadata": {
    "nteract": {
     "transient": {
      "deleting": false
     }
    }
   },
   "outputs": [],
   "source": [
    "using PyPlot\n",
    "using PyCall\n",
    "ov = pyimport(\"openpmd_viewer\")\n",
    "ts = ov.OpenPMDTimeSeries(\"/tmp/10_two_streams/hdf5\")\n",
    "tps = 1e12 * ts.t # time in picoseconds\n",
    "nothing"
   ]
  },
  {
   "cell_type": "code",
   "execution_count": null,
   "metadata": {
    "nteract": {
     "transient": {
      "deleting": false
     }
    }
   },
   "outputs": [],
   "source": [
    "rcParams = PyDict(matplotlib[\"rcParams\"])\n",
    "rcParams[\"font.family\"] = \"sans-serif\"\n",
    "rcParams[\"font.sans-serif\"] = \"Routed Gothic\"\n",
    "rcParams[\"font.size\"] = 15\n",
    "rcParams[\"axes.linewidth\"] = 1\n",
    "rcParams[\"scatter.marker\"] = \"o\"\n",
    "rcParams[\"xtick.direction\"] = \"in\"\n",
    "rcParams[\"ytick.direction\"] = \"in\"\n",
    "nothing"
   ]
  },
  {
   "cell_type": "code",
   "execution_count": null,
   "metadata": {
    "nteract": {
     "transient": {
      "deleting": false
     }
    }
   },
   "outputs": [],
   "source": [
    "_, metadata = ts.get_field(\"phi\")\n",
    "Lx, Ly = metadata.ymax, metadata.xmax\n",
    "dx, dy = metadata.dy, metadata.dx\n",
    "xs, ys = metadata.y, metadata.x\n",
    "nx, ny = length(xs), length(ys)\n",
    "e  = ts.get_particle([\"id\"], \"e-\")\n",
    "np = length(e[1])\n",
    "nothing"
   ]
  },
  {
   "cell_type": "code",
   "execution_count": null,
   "metadata": {
    "nteract": {
     "transient": {
      "deleting": false
     }
    }
   },
   "outputs": [],
   "source": [
    "pt = ov.ParticleTracker(ts, iteration=1, select=Dict(\"id\"=>[0, np]),\n",
    "    species=\"e-\", preserve_particle_index=false)\n",
    "it, np = length(ts.iterations), pt.N_selected;\n",
    "px = zeros(it, np)\n",
    "py = zeros(it, np)\n",
    "vx = zeros(it, np)\n",
    "vy = zeros(it, np)\n",
    "Ex = zeros(it, ny, nx)\n",
    "phi = zeros(it, ny, nx)\n",
    "rho = zeros(it, ny, nx)\n",
    "nHe = zeros(it, ny, nx)\n",
    "ne  = zeros(it, ny, nx)\n",
    "nothing"
   ]
  },
  {
   "cell_type": "code",
   "execution_count": null,
   "metadata": {
    "nteract": {
     "transient": {
      "deleting": false
     }
    }
   },
   "outputs": [],
   "source": [
    "using ProgressMeter\n",
    "@showprogress for i=1:it\n",
    "    x, y, ux, uy = ts.get_particle( [\"x\", \"y\", \"ux\", \"uy\"],\n",
    "        select=pt, iteration=ts.iterations[i], species=\"e-\")\n",
    "    px[i, :] = x[:]\n",
    "    py[i, :] = y[:]\n",
    "    vx[i, :] = ux[:]\n",
    "    vy[i, :] = uy[:]\n",
    "    Ex[i, :, :],= ts.get_field(\"E\", iteration=ts.iterations[i], coord=\"x\")\n",
    "   phi[i, :, :],= ts.get_field(\"phi\", iteration=ts.iterations[i])\n",
    "   rho[i, :, :],= ts.get_field(\"rho\", iteration=ts.iterations[i])\n",
    "   nHe[i, :, :],= ts.get_field(\"nHe+\", iteration=ts.iterations[i])\n",
    "    ne[i, :, :],= ts.get_field(\"ne-\", iteration=ts.iterations[i])\n",
    "end"
   ]
  },
  {
   "cell_type": "code",
   "execution_count": null,
   "metadata": {
    "nteract": {
     "transient": {
      "deleting": false
     }
    }
   },
   "outputs": [],
   "source": [
    "subplot(2,1,1)\n",
    "ρ = rho[:,1,:]'\n",
    "levels = range(minimum(ρ), maximum(ρ), length=128)\n",
    "contourf(tps, xs/Lx, ρ, levels)\n",
    "xlabel(\"time (ps)\")\n",
    "ylabel(\"x/L\")\n",
    "\n",
    "subplot(2,1,2)\n",
    "ε0 = 8.8541878128e-12 # F/m\n",
    "UE = 0.5ε0*dx*sum(Ex[:,1,:].^2; dims=2)\n",
    "plot(tps, UE, \"k\")\n",
    "xlabel(\"time (ps)\")\n",
    "ylabel(\"energy of the\\nelectric field (J)\")\n",
    "margins(x=0.0)\n",
    "subplots_adjust(hspace=0.5)"
   ]
  },
  {
   "cell_type": "code",
   "execution_count": null,
   "metadata": {
    "nteract": {
     "transient": {
      "deleting": false
     }
    }
   },
   "outputs": [],
   "source": [
    "subplot(2,1,1); plot(xs/Lx,  Ex[1,1,:], \"k-\"); ylabel(\"rho (C/m)\")\n",
    "subplot(2,1,2); plot(xs/Lx,  ne[1,1,:], \"k.\",\n",
    "                     xs/Lx, nHe[1,1,:], \"k-\"); ylabel(\"n (#/m^3)\")\n",
    "subplots_adjust(wspace=0.0, hspace=0.3)"
   ]
  },
  {
   "cell_type": "code",
   "execution_count": null,
   "metadata": {
    "nteract": {
     "transient": {
      "deleting": false
     }
    }
   },
   "outputs": [],
   "source": [
    "subplot(2,2,1); plot(px[  1,:]/Lx, vx[  1,:], \"k.\", markersize=1); xlabel(\"x/L\"); ylabel(\"vx/c\"); ylim(-0.09, +0.09); title(\"t=0 fs\");\n",
    "subplot(2,2,2); plot(px[200,:]/Lx, vx[200,:], \"k.\", markersize=1); xlabel(\"x/L\"); ylabel(\"vx/c\"); ylim(-0.09, +0.09); title(\"t=105 fs\");\n",
    "subplot(2,2,3); plot(px[500,:]/Lx, vx[500,:], \"k.\", markersize=1); xlabel(\"x/L\"); ylabel(\"vx/c\"); ylim(-0.09, +0.09); title(\"t=264 fs\");\n",
    "subplot(2,2,4); plot(px[800,:]/Lx, vx[800,:], \"k.\", markersize=1); xlabel(\"x/L\"); ylabel(\"vx/c\"); ylim(-0.09, +0.09); title(\"t=423 fs\");\n",
    "subplots_adjust(wspace=0.5, hspace=0.6)\n",
    "i = [1, 200, 500, 800]\n",
    "tps[i]"
   ]
  },
  {
   "cell_type": "markdown",
   "metadata": {},
   "source": [
    "### Solve problem"
   ]
  },
  {
   "cell_type": "code",
   "execution_count": 1,
   "metadata": {},
   "outputs": [
    {
     "name": "stderr",
     "output_type": "stream",
     "text": [
      "┌ Warning: ProgressMeter by default refresh meters with additional information in IJulia via `IJulia.clear_output`, which clears all outputs in the cell. \n",
      "│  - To prevent this behaviour, do `ProgressMeter.ijulia_behavior(:append)`. \n",
      "│  - To disable this warning message, do `ProgressMeter.ijulia_behavior(:clear)`.\n",
      "└ @ ProgressMeter /Users/bach/.julia/packages/ProgressMeter/0ub8y/src/ProgressMeter.jl:474\n",
      "\r",
      "\u001b[32mProgress: 100%|█████████████████████████████████████████| Time: 0:00:30\u001b[39m\r\n",
      "\u001b[34m  iteration:  1000\u001b[39m\r\n",
      "\u001b[34m  e:          1280\u001b[39m\n"
     ]
    },
    {
     "name": "stdout",
     "output_type": "stream",
     "text": [
      "Exporting to XDMF...\n",
      "Complete!\n",
      " 29.872480 seconds (271.79 M allocations: 14.208 GiB, 8.25% gc time)\n"
     ]
    }
   ],
   "source": [
    "PROBLEM = \"10_two_streams.jl\"\n",
    "include(\"../src/iskra.jl\")"
   ]
  },
  {
   "cell_type": "code",
   "execution_count": null,
   "metadata": {},
   "outputs": [],
   "source": []
  }
 ],
 "metadata": {
  "kernel_info": {
   "name": "python3"
  },
  "kernelspec": {
   "display_name": "Julia 1.5.3",
   "language": "julia",
   "name": "julia-1.5"
  },
  "language_info": {
   "file_extension": ".jl",
   "mimetype": "application/julia",
   "name": "julia",
   "version": "1.5.3"
  },
  "nteract": {
   "version": "0.28.0"
  }
 },
 "nbformat": 4,
 "nbformat_minor": 4
}
