{
 "cells": [
  {
   "cell_type": "code",
   "execution_count": 1,
   "id": "58831418",
   "metadata": {},
   "outputs": [
    {
     "name": "stdout",
     "output_type": "stream",
     "text": [
      "1.7.0 (cyclone)\n"
     ]
    }
   ],
   "source": [
    "println(VERSION, \" (\", Sys.CPU_NAME, \")\")"
   ]
  },
  {
   "cell_type": "raw",
   "id": "8d66a55a",
   "metadata": {},
   "source": [
    "println(\"[*] Checking runtime dependencies\")\n",
    "import Pkg\n",
    "Pkg.activate(\".\")\n",
    "Pkg.add(\"Unitful\")\n",
    "Pkg.add(\"DataStructures\")\n",
    "Pkg.add(\"Distributions\")\n",
    "Pkg.add(\"IterativeSolvers\")\n",
    "Pkg.add(\"Interpolations\")\n",
    "Pkg.add(\"ProgressMeter\")\n",
    "Pkg.add(\"SparseArrays\")\n",
    "Pkg.add(\"StaticArrays\")\n",
    "Pkg.resolve()"
   ]
  },
  {
   "cell_type": "code",
   "execution_count": 2,
   "id": "abroad-australia",
   "metadata": {},
   "outputs": [],
   "source": [
    "# + units and constants\n",
    "using Unitful\n",
    "↦(value::Unitful.Units, unit::Unitful.Units) = Unitful.convfact(unit, value)\n",
    "↦(value::Unitful.Quantity, unit::Unitful.Units) = uconvert(unit, value).val\n",
    "\n",
    "# units\n",
    "const °C = u\"°C\"\n",
    "const K  = u\"K\"  ↦ u\"K\"\n",
    "const kB = u\"k\"  ↦ u\"J/K\"\n",
    "const C  = u\"C\"  ↦ u\"C\"\n",
    "const V  = u\"V\"  ↦ u\"V\"\n",
    "const m  = u\"m\"  ↦ u\"m\"\n",
    "const cm = u\"cm\" ↦ u\"m\"\n",
    "const u  = u\"u\"  ↦ u\"kg\"\n",
    "const s  = u\"s\"  ↦ u\"s\"\n",
    "const ms = u\"ms\" ↦ u\"s\"\n",
    "const ns = u\"ns\" ↦ u\"s\"\n",
    "const ps = u\"ps\" ↦ u\"s\"\n",
    "const μs = u\"μs\" ↦ u\"s\"\n",
    "const kA = u\"kA\" ↦ u\"A\"\n",
    "const kV = u\"MV\" ↦ u\"V\"\n",
    "const MV = u\"MV\" ↦ u\"V\"\n",
    "const eV = u\"eV\" ↦ u\"eV\"\n",
    "const kg = u\"kg\" ↦ u\"kg\"\n",
    "const mps = u\"m/s\" ↦ u\"m/s\"\n",
    "const kmps = u\"km/s\" ↦ u\"m/s\"\n",
    "const kHz = u\"kHz\" ↦ u\"Hz\"\n",
    "const MHz = u\"MHz\" ↦ u\"Hz\"\n",
    "const GHz = u\"GHz\" ↦ u\"Hz\"\n",
    "\n",
    "# constants\n",
    "const ɛ0 = u\"ɛ0\" ↦ u\"F/m\"\n",
    "const c0 = sqrt(u\"1/ɛ0\" * u\"1/μ0\") ↦ u\"m/s\"\n",
    "const qe = 1.602_176_6208e-19C  # elementary charge\n",
    "const me = 9.109_383_7015e-31kg # mass of electron\n",
    "const mp = 1.672_621_8982e-27kg # mass of proton\n",
    "nothing"
   ]
  },
  {
   "cell_type": "code",
   "execution_count": 3,
   "id": "continental-newsletter",
   "metadata": {},
   "outputs": [
    {
     "data": {
      "text/plain": [
       "thermal_speed (generic function with 1 method)"
      ]
     },
     "execution_count": 3,
     "metadata": {},
     "output_type": "execute_result"
    }
   ],
   "source": [
    "function thermal_speed(T, m)\n",
    "  sqrt(2kB*T/m)\n",
    "end"
   ]
  },
  {
   "cell_type": "code",
   "execution_count": 4,
   "id": "03ebfca7",
   "metadata": {},
   "outputs": [
    {
     "data": {
      "text/plain": [
       "push_in_cartesian! (generic function with 1 method)"
      ]
     },
     "execution_count": 4,
     "metadata": {},
     "output_type": "execute_result"
    }
   ],
   "source": [
    "using StaticArrays\n",
    "using LinearAlgebra\n",
    "using Statistics\n",
    "using SparseArrays\n",
    "\n",
    "include(\"ParticleInCell/src/pic/kinetic.jl\")\n",
    "include(\"ParticleInCell/src/pic/sources.jl\")\n",
    "\n",
    "include(\"pole/boundary_conditions.jl\")\n",
    "include(\"pole/gradient.jl\")\n",
    "include(\"pole/iterative_methods.jl\")\n",
    "include(\"pole/inplace_periodic_solver.jl\")\n",
    "include(\"pole/linear_solver.jl\")\n",
    "include(\"pole/linear_solver1.jl\")\n",
    "\n",
    "include(\"RegularGrids/src/uniform_grid.jl\")\n",
    "include(\"ParticleInCell/src/pic/pushers.jl\")\n",
    "\n"
   ]
  },
  {
   "cell_type": "code",
   "execution_count": 5,
   "id": "swiss-wellington",
   "metadata": {},
   "outputs": [],
   "source": [
    "include(\"ParticleInCell/src/pic/state.jl\")\n",
    "import Random: Xoshiro\n",
    "struct KlystronProblem\n",
    "    I0 :: Float64 # Beam current\n",
    "    U0 :: Float64 # Beam voltage\n",
    "    \n",
    "    rng :: Xoshiro # random number generator\n",
    "    \n",
    "    beam :: MaxwellianSource\n",
    "    grid :: UniformGrid\n",
    "    solver :: LinearSolver\n",
    "    pusher :: BorisPusher\n",
    "    \n",
    "    timesteps :: Int64\n",
    "    \n",
    "    ne :: Vector{Float64}\n",
    "end"
   ]
  },
  {
   "cell_type": "code",
   "execution_count": 6,
   "id": "e218b220",
   "metadata": {},
   "outputs": [
    {
     "data": {
      "text/plain": [
       "calculate_electric_potential (generic function with 1 method)"
      ]
     },
     "execution_count": 6,
     "metadata": {},
     "output_type": "execute_result"
    }
   ],
   "source": [
    "solution(ps::LinearSolver) = reshape(ps.u, ps.n...)\n",
    "gradient(ps::LinearSolver) = GradientOperator(ps.n[1], ps.δ[1], ps.bcs)\n",
    "\n",
    "function create_poisson_solver(grid)\n",
    "    xf, = grid.facets\n",
    "    ps = LinearSolver(xf)\n",
    "end\n",
    "\n",
    "function calculate_electric_potential(ps, f)\n",
    "    @inbounds for i in eachindex(f)\n",
    "      f[i] /= ε0\n",
    "    end\n",
    "    solve!(ps, f)\n",
    "    φ  = solution(ps)\n",
    "    φ.-= mean(φ)\n",
    "end"
   ]
  },
  {
   "cell_type": "code",
   "execution_count": 7,
   "id": "rapid-techno",
   "metadata": {},
   "outputs": [
    {
     "data": {
      "text/plain": [
       "build (generic function with 1 method)"
      ]
     },
     "execution_count": 7,
     "metadata": {},
     "output_type": "execute_result"
    }
   ],
   "source": [
    "using Random; Random.seed!(0)\n",
    "\n",
    "function build()\n",
    "    # + spatial and temporal paramters\n",
    "    ts = 5000\n",
    "    nx = 73\n",
    "\n",
    "    νtherm = thermal_speed(300K, me)\n",
    "    νdrift = 2.48e8 # m/s\n",
    "\n",
    "    Lx = 0.372m\n",
    "    Δx = Lx / nx\n",
    "    Δt = 5.0ps\n",
    "    electronNumRatio = 3e10\n",
    "    simulationVolume = nx * Δx\n",
    "    numCells         = nx\n",
    "\n",
    "    I0 = 12kA\n",
    "    U0 = νdrift^2 * me / 2qe\n",
    "\n",
    "    println(\"Δt: \", Δt, \"\\nΔx: \", Δx, \"\\nLx: \", Lx)\n",
    "    println(\"νtherm: \", round(νtherm/c0; sigdigits=1), \"c\")\n",
    "    println(\"νdrift: \", round(νdrift/c0; sigdigits=3), \"c\")\n",
    "    println(\"I0: \", 1e-3I0, \"kA U0: \", round(1e-3U0; sigdigits=5), \"kV\")\n",
    "    println(\"real particles per macroparticle: \", electronNumRatio)\n",
    "    \n",
    "    # + species and sources\n",
    "    e   = KineticSpecies{1,3}(:e,  200_000, -1qe, 1me,  electronNumRatio)\n",
    "    beam = MaxwellianSource{1,3}(I0 / 1qe / electronNumRatio, [2Δx], [0.,0.,0.], dv=[+νdrift,0.,0.])\n",
    "    species = [e]\n",
    "    \n",
    "    xf = 0m:Δx:Lx\n",
    "    grid = create_uniform_grid(xf)\n",
    "    solver = create_poisson_solver(grid)\n",
    "    pusher = create_boris_pusher(species)\n",
    "        \n",
    "    φ = zeros(Float64, nx)\n",
    "    ρ = zeros(Float64, nx)\n",
    "    J = zeros(Float64, nx + 1)\n",
    "    E = zeros(SVector{3, Float64}, nx + 1)\n",
    "    B = zeros(SVector{3, Float64}, nx + 1)\n",
    "    initial = ParticleInCellState(tuple(e), φ, E, B, ρ, J, Δt, Δx)\n",
    "    \n",
    "    ne = zeros(ts)\n",
    "    context = KlystronProblem(I0, U0, Xoshiro(0x00), beam, grid, solver, pusher, ts, ne)\n",
    "    return initial, context\n",
    "end"
   ]
  },
  {
   "cell_type": "code",
   "execution_count": 26,
   "id": "cultural-uruguay",
   "metadata": {},
   "outputs": [
    {
     "data": {
      "text/plain": [
       "exit_loop (generic function with 1 method)"
      ]
     },
     "execution_count": 26,
     "metadata": {},
     "output_type": "execute_result"
    }
   ],
   "source": [
    "include(\"ParticleInCell/src/pic/wrap.jl\")\n",
    "\n",
    "@inline function enter_loop(context :: KlystronProblem, state)\n",
    "    e, = state.particles\n",
    "    e.np = 0\n",
    "    copy!(Random.GLOBAL_RNG, context.rng)\n",
    "end\n",
    "\n",
    "@inline function after_pusher(context :: KlystronProblem, state, i)\n",
    "    for part in state.particles\n",
    "        discard!(part, context.grid, 1)\n",
    "    end\n",
    "    return nothing\n",
    "end\n",
    "\n",
    "@inline function after_loop(context :: KlystronProblem, state, i)\n",
    "    e, = state.particles\n",
    "    context.ne[i] = e.np\n",
    "    for j=1:74 context.Ex[j,i] = state.E[j][1] end\n",
    "    sample!(context.beam, e, state.timestep)\n",
    "end\n",
    "\n",
    "@inline function exit_loop(context :: KlystronProblem, state)\n",
    "    copy!(context.rng, Random.GLOBAL_RNG)\n",
    "end"
   ]
  },
  {
   "cell_type": "code",
   "execution_count": 27,
   "id": "appropriate-serve",
   "metadata": {},
   "outputs": [
    {
     "ename": "LoadError",
     "evalue": "cannot declare results constant; it already has a value",
     "output_type": "error",
     "traceback": [
      "cannot declare results constant; it already has a value",
      "",
      "Stacktrace:",
      " [1] top-level scope",
      "   @ In[27]:18",
      " [2] eval",
      "   @ ./boot.jl:373 [inlined]",
      " [3] include_string(mapexpr::typeof(REPL.softscope), mod::Module, code::String, filename::String)",
      "   @ Base ./loading.jl:1196"
     ]
    }
   ],
   "source": [
    "struct FluidSpecies end\n",
    "include(\"ParticleInCell/src/pic/algorithm.jl\")\n",
    "include(\"ParticleInCell/src/pic/cloud_in_cell.jl\")\n",
    "\n",
    "function run!()\n",
    "    println(\"[*] Running simulation\")\n",
    "    \n",
    "    state, context = build()\n",
    "    pusher = context.pusher\n",
    "    solver = context.solver\n",
    "    steps  = context.timesteps\n",
    "    grid   = context.grid\n",
    "    \n",
    "    @time solve(state, pusher, solver, grid, [], steps, context)\n",
    "    \n",
    "    return context\n",
    "end\n",
    "const results = run!();"
   ]
  },
  {
   "cell_type": "raw",
   "id": "05d346b8",
   "metadata": {},
   "source": [
    "import Pkg\n",
    "Pkg.activate(\".\")\n",
    "Pkg.add(\"PyPlot\")\n",
    "Pkg.resolve()"
   ]
  },
  {
   "cell_type": "code",
   "execution_count": 10,
   "id": "higher-abuse",
   "metadata": {},
   "outputs": [
    {
     "ename": "LoadError",
     "evalue": "UndefVarError: diagnostics not defined",
     "output_type": "error",
     "traceback": [
      "UndefVarError: diagnostics not defined",
      "",
      "Stacktrace:",
      " [1] top-level scope",
      "   @ In[10]:3",
      " [2] eval",
      "   @ ./boot.jl:373 [inlined]",
      " [3] include_string(mapexpr::typeof(REPL.softscope), mod::Module, code::String, filename::String)",
      "   @ Base ./loading.jl:1196"
     ]
    }
   ],
   "source": [
    "using PyPlot\n",
    "figure(figsize=(15, 6))\n",
    "imshow(results.ne)\n",
    "colorbar(orientation=\"horizontal\")"
   ]
  },
  {
   "cell_type": "code",
   "execution_count": 11,
   "id": "25d43c1e",
   "metadata": {},
   "outputs": [
    {
     "ename": "LoadError",
     "evalue": "UndefVarError: diagnostics not defined",
     "output_type": "error",
     "traceback": [
      "UndefVarError: diagnostics not defined",
      "",
      "Stacktrace:",
      " [1] top-level scope",
      "   @ In[11]:2",
      " [2] eval",
      "   @ ./boot.jl:373 [inlined]",
      " [3] include_string(mapexpr::typeof(REPL.softscope), mod::Module, code::String, filename::String)",
      "   @ Base ./loading.jl:1196"
     ]
    }
   ],
   "source": [
    "figure(figsize=(15, 6))\n",
    "imshow(diagnostics[\"Jx\"])\n",
    "colorbar(orientation=\"horizontal\")\n",
    "xlim((0,1000))\n",
    "#display(gcf())"
   ]
  },
  {
   "cell_type": "code",
   "execution_count": 12,
   "id": "aa01afaf-9b42-466c-bcac-6960ed5efbb6",
   "metadata": {
    "jupyter": {
     "outputs_hidden": false,
     "source_hidden": false
    },
    "nteract": {
     "transient": {
      "deleting": false
     }
    }
   },
   "outputs": [
    {
     "ename": "LoadError",
     "evalue": "UndefVarError: diagnostics not defined",
     "output_type": "error",
     "traceback": [
      "UndefVarError: diagnostics not defined",
      "",
      "Stacktrace:",
      " [1] top-level scope",
      "   @ In[12]:2",
      " [2] eval",
      "   @ ./boot.jl:373 [inlined]",
      " [3] include_string(mapexpr::typeof(REPL.softscope), mod::Module, code::String, filename::String)",
      "   @ Base ./loading.jl:1196"
     ]
    }
   ],
   "source": [
    "let\n",
    "    djx = diff(diagnostics[\"Jx\"][1:nx+1,1:ts-1]; dims=1)\n",
    "    drho = diff(diagnostics[\"rho\"][1:nx,:]; dims=2)\n",
    "    error = djx ./ Δh .+ drho ./ Δt\n",
    "    \n",
    "    figure(figsize=(15, 8))\n",
    "    subplot(2,1,1)\n",
    "    semilogy(abs.(error[:, 300]), \".\")\n",
    "    xlabel(\"Cell index (-)\")\n",
    "    ylabel(\"Divergence error (-)\")\n",
    "  \n",
    "    subplot(2,1,2)\n",
    "    imshow(error, cmap=\"plasma\")\n",
    "    xlim((200,700))\n",
    "    colorbar(orientation=\"horizontal\")\n",
    "end"
   ]
  },
  {
   "cell_type": "code",
   "execution_count": 13,
   "id": "broke-testimony",
   "metadata": {},
   "outputs": [
    {
     "ename": "LoadError",
     "evalue": "UndefVarError: diagnostics not defined",
     "output_type": "error",
     "traceback": [
      "UndefVarError: diagnostics not defined",
      "",
      "Stacktrace:",
      " [1] top-level scope",
      "   @ In[13]:2",
      " [2] eval",
      "   @ ./boot.jl:373 [inlined]",
      " [3] include_string(mapexpr::typeof(REPL.softscope), mod::Module, code::String, filename::String)",
      "   @ Base ./loading.jl:1196"
     ]
    }
   ],
   "source": [
    "figure()\n",
    "plot(diagnostics[\"ne-\"][:])\n",
    "xlim((0, 5000))\n",
    "ylim((0, 4250))\n",
    "#display(gcf())"
   ]
  },
  {
   "cell_type": "code",
   "execution_count": 14,
   "id": "architectural-observation",
   "metadata": {},
   "outputs": [
    {
     "ename": "LoadError",
     "evalue": "UndefVarError: e not defined",
     "output_type": "error",
     "traceback": [
      "UndefVarError: e not defined",
      "",
      "Stacktrace:",
      " [1] top-level scope",
      "   @ In[14]:2",
      " [2] eval",
      "   @ ./boot.jl:373 [inlined]",
      " [3] include_string(mapexpr::typeof(REPL.softscope), mod::Module, code::String, filename::String)",
      "   @ Base ./loading.jl:1196"
     ]
    }
   ],
   "source": [
    "figure()\n",
    "scatter([e.x[p] for p in 1:e.np], [e.v[p][1] for p in 1:e.np], marker=\".\", s=0.1)\n",
    "#display(gcf())"
   ]
  },
  {
   "cell_type": "code",
   "execution_count": 15,
   "id": "97b6a9d7",
   "metadata": {},
   "outputs": [
    {
     "ename": "LoadError",
     "evalue": "UndefVarError: diagnostics not defined",
     "output_type": "error",
     "traceback": [
      "UndefVarError: diagnostics not defined",
      "",
      "Stacktrace:",
      " [1] top-level scope",
      "   @ In[15]:6",
      " [2] eval",
      "   @ ./boot.jl:373 [inlined]",
      " [3] include_string(mapexpr::typeof(REPL.softscope), mod::Module, code::String, filename::String)",
      "   @ Base ./loading.jl:1196"
     ]
    }
   ],
   "source": [
    "using FFTW\n",
    "\n",
    "figure()\n",
    "\n",
    "let\n",
    "    jx = sum(diagnostics[\"Jx\"][51:55,2000:4000]; dims=1)[:]\n",
    "    Jx = fft(jx .- mean(jx))\n",
    "    samples = length(jx)\n",
    "    fftfreq(samples, 1.0 / Δt)\n",
    "    Jx ./= samples\n",
    "    #stem(frequencies, abs.(fftshift(Jx)), linefmt=\"k-\", markerfmt=\"k.\", basefmt=\"k--\")\n",
    "end\n",
    "let\n",
    "    jx = sum(diagnostics[\"Jx\"][51:55,3000:5000]; dims=1)[:]\n",
    "    Jx = fft(jx .- mean(jx))\n",
    "    samples = length(jx)\n",
    "    fftfreq(samples, 1.0 / Δt)\n",
    "    Jx ./= samples\n",
    "    #stem(frequencies, abs.(fftshift(Jx)), linefmt=\"r-\", markerfmt=\"r.\", basefmt=\"k--\")\n",
    "end\n",
    "let\n",
    "    jx = sum(diagnostics[\"Jx\"][51:55,2000:5000]; dims=1)[:]\n",
    "    Jx = fft(jx .- mean(jx))\n",
    "    samples = length(jx)\n",
    "    fftfreq(samples, 1.0 / Δt)\n",
    "    Jx ./= samples\n",
    "    stem(frequencies, abs.(fftshift(Jx)), linefmt=\"b-\", markerfmt=\"b.\", basefmt=\"k--\")\n",
    "end\n",
    "xlim((0., 1.5GHz))"
   ]
  },
  {
   "cell_type": "code",
   "execution_count": 16,
   "id": "9c02350a",
   "metadata": {},
   "outputs": [
    {
     "name": "stderr",
     "output_type": "stream",
     "text": [
      "WARNING: using ACME.run! in module Main conflicts with an existing identifier.\n",
      "WARNING: using ACME.add! in module Main conflicts with an existing identifier.\n"
     ]
    }
   ],
   "source": [
    "using ACME"
   ]
  },
  {
   "cell_type": "code",
   "execution_count": 17,
   "id": "27162e52",
   "metadata": {},
   "outputs": [
    {
     "ename": "LoadError",
     "evalue": "UndefVarError: Δt not defined",
     "output_type": "error",
     "traceback": [
      "UndefVarError: Δt not defined",
      "",
      "Stacktrace:",
      " [1] (::var\"#13#14\")(i::Int64)",
      "   @ Main ./none:0",
      " [2] iterate",
      "   @ ./generator.jl:47 [inlined]",
      " [3] collect(itr::Base.Generator{UnitRange{Int64}, var\"#13#14\"})",
      "   @ Base ./array.jl:724",
      " [4] top-level scope",
      "   @ In[17]:29",
      " [5] eval",
      "   @ ./boot.jl:373 [inlined]",
      " [6] include_string(mapexpr::typeof(REPL.softscope), mod::Module, code::String, filename::String)",
      "   @ Base ./loading.jl:1196"
     ]
    }
   ],
   "source": [
    "T = 100_000\n",
    "circuit = let\n",
    "    ω0 = 2π * 2860MHz\n",
    "    RoverQ = 58.2\n",
    "    L = RoverQ / ω0\n",
    "    C = (1.0 / RoverQ) * (1.0 / ω0)\n",
    "    Q = 1.0 / (1.0 / 2000.0 + 1.0 / 175.0) \n",
    "    R = RoverQ * Q\n",
    "    \n",
    "    cavity = @circuit begin\n",
    "        u = voltageprobe()\n",
    "        i = currentsource() # induced current\n",
    "        j = currentsource() # external current\n",
    "        r = resistor(R)\n",
    "        c = capacitor(C)\n",
    "        l = inductor(L)\n",
    "        i[+] == j[+] == r[1] == l[1] == c[1]\n",
    "        i[-] == j[-] == r[2] == l[2] == c[2]\n",
    "        i[+] == j[+] == u[+]\n",
    "        i[-] == j[-] == u[-] == gnd\n",
    "    end\n",
    "end\n",
    "\n",
    "\n",
    "freq = range(2700MHz, 2990MHz, length=100)\n",
    "outp = similar(freq)\n",
    "\n",
    "x = zeros(2, T)\n",
    "t = [Δt * i for i=1:T]\n",
    "\n",
    "for j=1:100\n",
    "    model = DiscreteModel(circuit, Δt)\n",
    "    x[1, :] .= [sin(2π * freq[j] * t[i]) for i=1:T]\n",
    "    y = run!(model, x)\n",
    "    outp[j] = abs(maximum(y[T-1000:T]))\n",
    "end"
   ]
  },
  {
   "cell_type": "code",
   "execution_count": 18,
   "id": "96ea4520",
   "metadata": {},
   "outputs": [
    {
     "data": {
      "image/png": "[encoded data removed]",
      "text/plain": [
       "Figure(PyObject <Figure size 640x480 with 1 Axes>)"
      ]
     },
     "metadata": {},
     "output_type": "display_data"
    },
    {
     "data": {
      "text/plain": [
       "1-element Vector{PyCall.PyObject}:\n",
       " PyObject <matplotlib.lines.Line2D object at 0x2996a05b0>"
      ]
     },
     "execution_count": 18,
     "metadata": {},
     "output_type": "execute_result"
    }
   ],
   "source": [
    "plot(freq, outp ./ maximum(outp))"
   ]
  },
  {
   "cell_type": "code",
   "execution_count": 19,
   "id": "d94a78bd",
   "metadata": {},
   "outputs": [
    {
     "ename": "LoadError",
     "evalue": "UndefVarError: ts not defined",
     "output_type": "error",
     "traceback": [
      "UndefVarError: ts not defined",
      "",
      "Stacktrace:",
      " [1] top-level scope",
      "   @ In[19]:1",
      " [2] eval",
      "   @ ./boot.jl:373 [inlined]",
      " [3] include_string(mapexpr::typeof(REPL.softscope), mod::Module, code::String, filename::String)",
      "   @ Base ./loading.jl:1196"
     ]
    }
   ],
   "source": [
    "T = ts\n",
    "circuit = let\n",
    "    ω0 = 2π * 2860MHz\n",
    "    RoverQ = 58.2\n",
    "    L = RoverQ / ω0\n",
    "    C = (1.0 / RoverQ) * (1.0 / ω0)\n",
    "    Q = 1.0 / (1.0 / 2000.0 + 1.0 / 175.0) \n",
    "    R = RoverQ * Q\n",
    "    \n",
    "    cavity = @circuit begin\n",
    "        u = voltageprobe()\n",
    "        i = currentsource() # induced current\n",
    "        j = currentsource() # external current\n",
    "        r = resistor(R)\n",
    "        c = capacitor(C)\n",
    "        l = inductor(L)\n",
    "        i[+] == j[+] == r[1] == l[1] == c[1]\n",
    "        i[-] == j[-] == r[2] == l[2] == c[2]\n",
    "        i[+] == j[+] == u[+]\n",
    "        i[-] == j[-] == u[-] == gnd\n",
    "    end\n",
    "end\n",
    "\n",
    "\n",
    "x = zeros(2, T)\n",
    "t = [Δt * i for i=1:T]\n",
    "\n",
    "model = DiscreteModel(circuit, Δt)\n",
    "x[1, :] .= [sin(2π * 2860MHz * t[i]) for i=1:T]\n",
    "#x[2, :] .= [sin(2π * 2260MHz * t[i]) for i=1:T]\n",
    "y = run!(model, x)\n",
    "plot(t, vec(y))\n",
    "#xlim((0,10e-10))"
   ]
  },
  {
   "cell_type": "code",
   "execution_count": 20,
   "id": "3191ceb1",
   "metadata": {},
   "outputs": [
    {
     "ename": "LoadError",
     "evalue": "UndefVarError: solver not defined",
     "output_type": "error",
     "traceback": [
      "UndefVarError: solver not defined",
      "",
      "Stacktrace:",
      " [1] top-level scope",
      "   @ In[20]:1",
      " [2] eval",
      "   @ ./boot.jl:373 [inlined]",
      " [3] include_string(mapexpr::typeof(REPL.softscope), mod::Module, code::String, filename::String)",
      "   @ Base ./loading.jl:1196"
     ]
    }
   ],
   "source": [
    "solver.n"
   ]
  },
  {
   "cell_type": "code",
   "execution_count": 21,
   "id": "f12b1ffd",
   "metadata": {},
   "outputs": [
    {
     "ename": "LoadError",
     "evalue": "UndefVarError: solver not defined",
     "output_type": "error",
     "traceback": [
      "UndefVarError: solver not defined",
      "",
      "Stacktrace:",
      " [1] top-level scope",
      "   @ In[21]:2",
      " [2] eval",
      "   @ ./boot.jl:373 [inlined]",
      " [3] include_string(mapexpr::typeof(REPL.softscope), mod::Module, code::String, filename::String)",
      "   @ Base ./loading.jl:1196"
     ]
    }
   ],
   "source": [
    "using JLD2\n",
    "jldsave(\"solver.jld2\"; solver)"
   ]
  },
  {
   "cell_type": "code",
   "execution_count": 22,
   "id": "ef0d8376",
   "metadata": {},
   "outputs": [
    {
     "ename": "LoadError",
     "evalue": "UndefVarError: solver not defined",
     "output_type": "error",
     "traceback": [
      "UndefVarError: solver not defined",
      "",
      "Stacktrace:",
      " [1] top-level scope",
      "   @ :0",
      " [2] eval",
      "   @ ./boot.jl:373 [inlined]",
      " [3] include_string(mapexpr::typeof(REPL.softscope), mod::Module, code::String, filename::String)",
      "   @ Base ./loading.jl:1196"
     ]
    }
   ],
   "source": [
    "solver"
   ]
  },
  {
   "cell_type": "code",
   "execution_count": null,
   "id": "1f92a882",
   "metadata": {},
   "outputs": [],
   "source": []
  }
 ],
 "metadata": {
  "kernelspec": {
   "display_name": "Julia 1.7.0",
   "language": "julia",
   "name": "julia-1.7"
  },
  "language_info": {
   "file_extension": ".jl",
   "mimetype": "application/julia",
   "name": "julia",
   "version": "1.7.0"
  },
  "nteract": {
   "version": "0.28.0"
  }
 },
 "nbformat": 4,
 "nbformat_minor": 5
}
