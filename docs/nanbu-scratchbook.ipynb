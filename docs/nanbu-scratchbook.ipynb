{
  "cells": [
    {
      "cell_type": "code",
      "source": [
        "using Revise\n",
        "using Chemistry\n",
        "using PyPlot\n",
        "\n",
        "cd(\"/Users/bach/OneDrive - Politechnika Warszawska/projects/2019/iskra\")\n",
        "include(\"problem/configuration.jl\")\n",
        "include(\"problem/units_and_constants.jl\")\n",
        "include(\"Chemistry/src/biagi71.jl\")\n",
        "include(\"Chemistry/src/phelps.jl\")\n",
        "nothing"
      ],
      "outputs": [],
      "execution_count": 172,
      "metadata": {
        "collapsed": true,
        "jupyter": {
          "source_hidden": false,
          "outputs_hidden": false
        },
        "nteract": {
          "transient": {
            "deleting": false
          }
        },
        "execution": {
          "shell.execute_reply": "2020-07-30T21:00:03.275Z",
          "iopub.status.busy": "2020-08-01T09:03:37.927Z",
          "iopub.execute_input": "2020-08-01T09:03:37.932Z",
          "iopub.status.idle": "2020-08-01T09:03:38.107Z"
        }
      }
    },
    {
      "cell_type": "code",
      "source": [
        "config = Config()\n",
        "\n",
        "using ParticleInCell\n",
        "\n",
        "He  = FluidSpecies(\"He\", 1.0, 0qe, 6.64647645970479e-27, zeros(1,1), 300.0K)\n",
        "e   = KineticSpecies{2,3}(\"e-\",  20_000)\n",
        "iHe = KineticSpecies{2,3}(\"He+\", 20_000)\n",
        "e.q, e.m = -1qe, 1me\n",
        "iHe.q, iHe.m = +1qe, 6.64647645970479e-27\n",
        "\n",
        "electron = mcc(@reactions begin\n",
        "    σ₁, e + He --> e + He\n",
        "    σ₂, e + He --> e + He, Chemistry.MCC.Excitation(19.82eV)\n",
        "    σ₃, e + He --> e + He, Chemistry.MCC.Excitation(20.61eV)\n",
        "    σ₄, e + He --> e + e + iHe, Chemistry.MCC.Ionization(24.587eV)\n",
        "end)\n",
        "\n",
        "ion = mcc(@reactions begin\n",
        "    σₑ₁, iHe + He --> iHe + He, Chemistry.MCC.ElasticIsotropic()\n",
        "    σₑ₂, iHe + He --> iHe + He, Chemistry.MCC.ElasticBackward()\n",
        "end)\n",
        " \n",
        "\n",
        "typeof.(electron.collisions)"
      ],
      "outputs": [
        {
          "output_type": "execute_result",
          "execution_count": 268,
          "data": {
            "text/plain": "4-element Array{DataType,1}:\n Chemistry.MCC.Collision{Chemistry.MCC.ElasticIsotropic}\n Chemistry.MCC.Collision{Chemistry.MCC.Excitation}      \n Chemistry.MCC.Collision{Chemistry.MCC.Excitation}      \n Chemistry.MCC.Collision{Chemistry.MCC.Ionization}      "
          },
          "metadata": {}
        }
      ],
      "execution_count": 268,
      "metadata": {
        "collapsed": true,
        "jupyter": {
          "source_hidden": false,
          "outputs_hidden": false
        },
        "nteract": {
          "transient": {
            "deleting": false
          }
        },
        "execution": {
          "iopub.status.busy": "2020-08-01T11:30:33.668Z",
          "iopub.execute_input": "2020-08-01T11:30:33.677Z",
          "iopub.status.idle": "2020-08-01T11:30:38.222Z"
        }
      }
    },
    {
      "cell_type": "code",
      "source": [
        "sol = 299_792_458u\"m/s\" \n",
        "mass = 510_998.9500015u\"eV\"/sol^2\n",
        "energy = 0.1u\"eV\"\n",
        "velocity = sqrt(2energy/mass)"
      ],
      "outputs": [
        {
          "output_type": "execute_result",
          "execution_count": 269,
          "data": {
            "text/plain": "187553.72620952097 m s^-1"
          },
          "metadata": {}
        }
      ],
      "execution_count": 269,
      "metadata": {
        "collapsed": true,
        "jupyter": {
          "source_hidden": false,
          "outputs_hidden": false
        },
        "nteract": {
          "transient": {
            "deleting": false
          }
        },
        "execution": {
          "iopub.status.busy": "2020-08-01T11:30:38.232Z",
          "iopub.execute_input": "2020-08-01T11:30:38.241Z",
          "iopub.status.idle": "2020-08-01T11:30:38.253Z"
        }
      }
    },
    {
      "cell_type": "code",
      "source": [
        "vmin, vmax = 18_000, 22_000_000\n",
        "timestep = 1.8436578171091445e-9\n",
        "density = 9.64e20\n",
        "\n",
        "ν = vmin:1_000:vmax\n",
        "Δt = timestep\n",
        "n₀ = density\n",
        "N = 4\n",
        "U = rand()\n",
        "i = floor(Int64, N*U + 1)\n",
        "println(\"U: \", U)\n",
        "println(\"i: \", i)\n",
        "\n",
        "for (j, collision) in enumerate(electron.collisions)\n",
        "\tmᵢ = collision.source.m / 1.602176634e-19\n",
        "\tσᵢ = collision.rate\n",
        "\tεᵢ = 0.5 .* mᵢ .* ν .^ 2\n",
        "\tPᵢ = n₀ .* ν .* σᵢ.(εᵢ) .* Δt\n",
        "    #loglog(ν, n₀ .* ν .* σᵢ.(εᵢ) .* Δt)\n",
        "    fill_between(ν, j/N, j/N .- Pᵢ)\n",
        "    semilogx(ν, j/N .+ zero(ν), \"k\", linewidth=0.1)\n",
        "    if i == j\n",
        "      hit = U > i/N - maximum(Pᵢ)\n",
        "      println(\"U > (i/N) - Pᵢ: \", hit ? collision : \"null-collision\")\n",
        "    end\n",
        "end\n",
        "\n",
        "semilogx(ν, U .+ zero(ν), \"r\")\n",
        "ylim(-0.1, +1.1)\n",
        "xlabel(\"velocity [m/s]\")\n",
        "ylabel(\"probability\")\n",
        "nothing\n"
      ],
      "outputs": [
        {
          "output_type": "stream",
          "name": "stdout",
          "text": [
            "U: 0.816959794400085\n",
            "i: 4\n",
            "U > (i/N) - Pᵢ: "
          ]
        },
        {
          "output_type": "display_data",
          "data": {
            "text/plain": "Figure(PyObject <Figure size 640x480 with 1 Axes>)",
            "image/png": "[encoded data removed]"
          },
          "metadata": {}
        },
        {
          "output_type": "stream",
          "name": "stdout",
          "text": [
            "null-collision\n"
          ]
        }
      ],
      "execution_count": 270,
      "metadata": {
        "collapsed": true,
        "jupyter": {
          "source_hidden": false,
          "outputs_hidden": false
        },
        "nteract": {
          "transient": {
            "deleting": false
          }
        },
        "execution": {
          "iopub.status.busy": "2020-08-01T11:30:38.260Z",
          "iopub.execute_input": "2020-08-01T11:30:38.265Z",
          "iopub.status.idle": "2020-08-01T11:30:38.923Z"
        }
      }
    },
    {
      "cell_type": "code",
      "source": [
        "sol = 299_792_458u\"m/s\" \n",
        "mass = 4.002602 * 931_494_028.23u\"eV\"/sol^2\n",
        "energy = 10_000u\"eV\"\n",
        "velocity = sqrt(2energy/mass)\n",
        "velocity\n",
        "#uconvert(u\"kg\", mass), 4.1484043136437294e-8 * 1.602176634e-19"
      ],
      "outputs": [
        {
          "output_type": "execute_result",
          "execution_count": 271,
          "data": {
            "text/plain": "694343.635848776 m s^-1"
          },
          "metadata": {}
        }
      ],
      "execution_count": 271,
      "metadata": {
        "collapsed": true,
        "jupyter": {
          "source_hidden": false,
          "outputs_hidden": false
        },
        "nteract": {
          "transient": {
            "deleting": false
          }
        },
        "execution": {
          "iopub.status.busy": "2020-08-01T11:30:41.453Z",
          "iopub.execute_input": "2020-08-01T11:30:41.461Z",
          "iopub.status.idle": "2020-08-01T11:30:41.480Z"
        }
      }
    },
    {
      "cell_type": "code",
      "source": [
        "vmin, vmax = 100, 700_000\n",
        "timestep = 1.8436578171091445e-9#10\n",
        "density = 9.64e20\n",
        "\n",
        "ν = vmin:10_000:vmax\n",
        "Δt = timestep\n",
        "n₀ = density\n",
        "N = 2\n",
        "U = rand()\n",
        "i = floor(Int64, N*U + 1)\n",
        "println(\"U: \", U)\n",
        "println(\"i: \", i)\n",
        "\n",
        "for (j, collision) in enumerate(ion.collisions)\n",
        "\tmᵢ = collision.source.m / 1.602176634e-19\n",
        "\tσᵢ = collision.rate\n",
        "\tεᵢ = 0.5 .* mᵢ .* ν .^ 2\n",
        "\tPᵢ = n₀ .* ν .* σᵢ.(εᵢ) .* Δt\n",
        "    #loglog(ν, σᵢ.(εᵢ) .* Δt)\n",
        "    fill_between(ν, j/N, j/N .- Pᵢ)\n",
        "    semilogx(ν, j/N .+ zero(ν), \"k\", linewidth=0.1)\n",
        "    if i == j\n",
        "      hit = U > i/N - maximum(Pᵢ)\n",
        "      println(\"U > (i/N) - Pᵢ: \", hit ? collision : \"null-collision\")\n",
        "    end\n",
        "end\n",
        "legend(string.(ion.collisions))\n",
        "semilogx(ν, U .+ zero(ν), \"r\")\n",
        "ylim(-0.01, +1.01)\n",
        "xlabel(\"velocity [m/s]\")\n",
        "ylabel(\"probability\")\n",
        "nothing\n"
      ],
      "outputs": [
        {
          "output_type": "stream",
          "name": "stdout",
          "text": [
            "U: 0.9992016430443424\n",
            "i: 2\n",
            "U > (i/N) - Pᵢ: "
          ]
        },
        {
          "output_type": "display_data",
          "data": {
            "text/plain": "Figure(PyObject <Figure size 640x480 with 1 Axes>)",
            "image/png": "[encoded data removed]"
          },
          "metadata": {}
        },
        {
          "output_type": "stream",
          "name": "stdout",
          "text": [
            "σ: , He+ + He-->He+ + He\telastic (backward)\n"
          ]
        }
      ],
      "execution_count": 319,
      "metadata": {
        "collapsed": true,
        "jupyter": {
          "source_hidden": false,
          "outputs_hidden": false
        },
        "nteract": {
          "transient": {
            "deleting": false
          }
        },
        "execution": {
          "iopub.status.busy": "2020-08-01T11:32:25.414Z",
          "iopub.execute_input": "2020-08-01T11:32:25.420Z",
          "iopub.status.idle": "2020-08-01T11:32:26.065Z"
        }
      }
    },
    {
      "cell_type": "code",
      "source": [],
      "outputs": [],
      "execution_count": null,
      "metadata": {
        "collapsed": true,
        "jupyter": {
          "source_hidden": false,
          "outputs_hidden": false
        },
        "nteract": {
          "transient": {
            "deleting": false
          }
        }
      }
    },
    {
      "cell_type": "code",
      "source": [],
      "outputs": [],
      "execution_count": null,
      "metadata": {
        "collapsed": true,
        "jupyter": {
          "source_hidden": false,
          "outputs_hidden": false
        },
        "nteract": {
          "transient": {
            "deleting": false
          }
        }
      }
    }
  ],
  "metadata": {
    "kernel_info": {
      "name": "python3"
    },
    "language_info": {
      "file_extension": ".jl",
      "name": "julia",
      "mimetype": "application/julia",
      "version": "1.1.0"
    },
    "kernelspec": {
      "argv": [
        "python",
        "-m",
        "ipykernel_launcher",
        "-f",
        "{connection_file}"
      ],
      "display_name": "Python 3",
      "language": "python",
      "name": "python3"
    },
    "nteract": {
      "version": "0.24.0"
    }
  },
  "nbformat": 4,
  "nbformat_minor": 0
}